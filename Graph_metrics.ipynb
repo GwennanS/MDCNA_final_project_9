{
 "metadata": {
  "language_info": {
   "codemirror_mode": {
    "name": "ipython",
    "version": 3
   },
   "file_extension": ".py",
   "mimetype": "text/x-python",
   "name": "python",
   "nbconvert_exporter": "python",
   "pygments_lexer": "ipython3",
   "version": "3.7.3-final"
  },
  "orig_nbformat": 2,
  "kernelspec": {
   "name": "python3",
   "display_name": "Python 3.7.3 32-bit",
   "metadata": {
    "interpreter": {
     "hash": "d9845c531b3d021772e6a27e002058f0fdf7102bf966aac9913363b257811c1f"
    }
   }
  }
 },
 "nbformat": 4,
 "nbformat_minor": 2,
 "cells": [
  {
   "cell_type": "code",
   "execution_count": 63,
   "metadata": {},
   "outputs": [],
   "source": [
    "import networkx as nx\n",
    "import pandas as pd\n",
    "import numpy as np \n",
    "import matplotlib.pyplot as plt\n",
    "import math\n",
    "import scipy"
   ]
  },
  {
   "cell_type": "code",
   "execution_count": 2,
   "metadata": {},
   "outputs": [],
   "source": [
    "bodyData = pd.read_csv(\"soc-redditHyperlinks-body.tsv\", sep='\\t')\n",
    "titleData = pd.read_csv(\"soc-redditHyperlinks-title.tsv\", sep='\\t')\n",
    "df = bodyData.append(titleData, ignore_index=True)\n",
    "del df['PROPERTIES']"
   ]
  },
  {
   "cell_type": "code",
   "execution_count": 5,
   "metadata": {},
   "outputs": [
    {
     "output_type": "execute_result",
     "data": {
      "text/plain": [
       "Index(['SOURCE_SUBREDDIT', 'TARGET_SUBREDDIT', 'POST_ID', 'TIMESTAMP',\n",
       "       'LINK_SENTIMENT'],\n",
       "      dtype='object')"
      ]
     },
     "metadata": {},
     "execution_count": 5
    }
   ],
   "source": [
    "df.columns"
   ]
  },
  {
   "cell_type": "code",
   "execution_count": 7,
   "metadata": {},
   "outputs": [],
   "source": [
    "G = nx.from_pandas_edgelist(df,source='SOURCE_SUBREDDIT', target='TARGET_SUBREDDIT', edge_attr=['LINK_SENTIMENT'], create_using=nx.DiGraph())"
   ]
  },
  {
   "cell_type": "code",
   "execution_count": 58,
   "metadata": {},
   "outputs": [
    {
     "output_type": "stream",
     "name": "stdout",
     "text": [
      "Name: \n",
      "Type: DiGraph\n",
      "Number of nodes: 67180\n",
      "Number of edges: 339643\n",
      "Average in degree:   5.0557\n",
      "Average out degree:   5.0557\n",
      "Average Degree  10.111431973801727\n",
      "Standard Deviation of Degree 66.78257610540975\n",
      "Standard Deviation of In Degree 48.805188142509984\n",
      "Standard Deviation of Out Degree 29.925864152390933\n"
     ]
    }
   ],
   "source": [
    "print(nx.info(G))\n",
    "print(\"Average Degree \", np.mean(np.asarray(list(dict(G.degree()).values()))))\n",
    "print(\"Standard Deviation of Degree\", np.std(np.asarray(list(dict(G.degree()).values())))) \n",
    "print(\"Standard Deviation of In Degree\", np.std(np.asarray(list(dict(G.in_degree()).values())))) \n",
    "print(\"Standard Deviation of Out Degree\", np.std(np.asarray(list(dict(G.out_degree()).values())))) "
   ]
  },
  {
   "cell_type": "code",
   "execution_count": 78,
   "metadata": {},
   "outputs": [
    {
     "output_type": "execute_result",
     "data": {
      "text/plain": [
       "45564"
      ]
     },
     "metadata": {},
     "execution_count": 78
    }
   ],
   "source": [
    "nx.number_strongly_connected_components(G)"
   ]
  },
  {
   "cell_type": "code",
   "execution_count": 79,
   "metadata": {},
   "outputs": [
    {
     "output_type": "execute_result",
     "data": {
      "text/plain": [
       "712"
      ]
     },
     "metadata": {},
     "execution_count": 79
    }
   ],
   "source": [
    "nx.number_weakly_connected_components(G)"
   ]
  },
  {
   "cell_type": "code",
   "execution_count": 67,
   "metadata": {},
   "outputs": [
    {
     "output_type": "execute_result",
     "data": {
      "text/plain": [
       "0.16870989594128272"
      ]
     },
     "metadata": {},
     "execution_count": 67
    }
   ],
   "source": [
    "nx.average_clustering(G)"
   ]
  },
  {
   "cell_type": "code",
   "execution_count": 81,
   "metadata": {},
   "outputs": [],
   "source": [
    "G2 = nx.from_pandas_edgelist(df,source='SOURCE_SUBREDDIT', target='TARGET_SUBREDDIT', edge_attr=['LINK_SENTIMENT'])"
   ]
  },
  {
   "cell_type": "code",
   "execution_count": 83,
   "metadata": {},
   "outputs": [
    {
     "output_type": "stream",
     "name": "stdout",
     "text": [
      "Name: \n",
      "Type: Graph\n",
      "Number of nodes: 67180\n",
      "Number of edges: 309667\n",
      "Average degree:   9.2190\n",
      "Average Degree  9.219023518904436\n",
      "Standard Deviation of Degree 61.43381208391674\n"
     ]
    }
   ],
   "source": [
    "print(nx.info(G2))\n",
    "print(\"Average Degree \", np.mean(np.asarray(list(dict(G2.degree()).values()))))\n",
    "print(\"Standard Deviation of Degree\", np.std(np.asarray(list(dict(G2.degree()).values())))) "
   ]
  }
 ]
}