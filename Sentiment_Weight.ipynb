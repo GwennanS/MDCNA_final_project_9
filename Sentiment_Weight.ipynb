{
 "cells": [
  {
   "cell_type": "code",
   "execution_count": 1,
   "metadata": {
    "execution": {
     "iopub.execute_input": "2021-04-03T08:20:10.362011Z",
     "iopub.status.busy": "2021-04-03T08:20:10.362011Z",
     "iopub.status.idle": "2021-04-03T08:20:49.996900Z",
     "shell.execute_reply": "2021-04-03T08:20:49.996900Z",
     "shell.execute_reply.started": "2021-04-03T08:20:10.362011Z"
    }
   },
   "outputs": [],
   "source": [
    "import networkx as nx\n",
    "import pandas as pd\n",
    "import numpy as np \n",
    "import matplotlib.pyplot as plt\n",
    "import math\n",
    "import scipy\n",
    "import matplotlib.pyplot as plt \n"
   ]
  },
  {
   "cell_type": "code",
   "execution_count": 27,
   "metadata": {
    "execution": {
     "iopub.execute_input": "2021-04-03T08:48:03.741642Z",
     "iopub.status.busy": "2021-04-03T08:48:03.741642Z",
     "iopub.status.idle": "2021-04-03T08:48:15.151157Z",
     "shell.execute_reply": "2021-04-03T08:48:15.149153Z",
     "shell.execute_reply.started": "2021-04-03T08:48:03.741642Z"
    }
   },
   "outputs": [],
   "source": [
    "bodyData = pd.read_csv(\"soc-redditHyperlinks-body.tsv\", sep='\\t')\n",
    "titleData = pd.read_csv(\"soc-redditHyperlinks-title.tsv\", sep='\\t')\n",
    "df = bodyData.append(titleData, ignore_index=True)\n",
    "del df['PROPERTIES']"
   ]
  },
  {
   "cell_type": "code",
   "execution_count": 28,
   "metadata": {
    "execution": {
     "iopub.execute_input": "2021-04-03T08:48:15.154157Z",
     "iopub.status.busy": "2021-04-03T08:48:15.153161Z",
     "iopub.status.idle": "2021-04-03T08:48:15.200157Z",
     "shell.execute_reply": "2021-04-03T08:48:15.197177Z",
     "shell.execute_reply.started": "2021-04-03T08:48:15.154157Z"
    }
   },
   "outputs": [
    {
     "data": {
      "text/html": [
       "<div>\n",
       "<style scoped>\n",
       "    .dataframe tbody tr th:only-of-type {\n",
       "        vertical-align: middle;\n",
       "    }\n",
       "\n",
       "    .dataframe tbody tr th {\n",
       "        vertical-align: top;\n",
       "    }\n",
       "\n",
       "    .dataframe thead th {\n",
       "        text-align: right;\n",
       "    }\n",
       "</style>\n",
       "<table border=\"1\" class=\"dataframe\">\n",
       "  <thead>\n",
       "    <tr style=\"text-align: right;\">\n",
       "      <th></th>\n",
       "      <th>SOURCE_SUBREDDIT</th>\n",
       "      <th>TARGET_SUBREDDIT</th>\n",
       "      <th>POST_ID</th>\n",
       "      <th>TIMESTAMP</th>\n",
       "      <th>LINK_SENTIMENT</th>\n",
       "    </tr>\n",
       "  </thead>\n",
       "  <tbody>\n",
       "    <tr>\n",
       "      <th>0</th>\n",
       "      <td>leagueoflegends</td>\n",
       "      <td>teamredditteams</td>\n",
       "      <td>1u4nrps</td>\n",
       "      <td>2013-12-31 16:39:58</td>\n",
       "      <td>1</td>\n",
       "    </tr>\n",
       "    <tr>\n",
       "      <th>1</th>\n",
       "      <td>theredlion</td>\n",
       "      <td>soccer</td>\n",
       "      <td>1u4qkd</td>\n",
       "      <td>2013-12-31 18:18:37</td>\n",
       "      <td>-1</td>\n",
       "    </tr>\n",
       "    <tr>\n",
       "      <th>2</th>\n",
       "      <td>inlandempire</td>\n",
       "      <td>bikela</td>\n",
       "      <td>1u4qlzs</td>\n",
       "      <td>2014-01-01 14:54:35</td>\n",
       "      <td>1</td>\n",
       "    </tr>\n",
       "    <tr>\n",
       "      <th>3</th>\n",
       "      <td>nfl</td>\n",
       "      <td>cfb</td>\n",
       "      <td>1u4sjvs</td>\n",
       "      <td>2013-12-31 17:37:55</td>\n",
       "      <td>1</td>\n",
       "    </tr>\n",
       "    <tr>\n",
       "      <th>4</th>\n",
       "      <td>playmygame</td>\n",
       "      <td>gamedev</td>\n",
       "      <td>1u4w5ss</td>\n",
       "      <td>2014-01-01 02:51:13</td>\n",
       "      <td>1</td>\n",
       "    </tr>\n",
       "  </tbody>\n",
       "</table>\n",
       "</div>"
      ],
      "text/plain": [
       "  SOURCE_SUBREDDIT TARGET_SUBREDDIT  POST_ID            TIMESTAMP  \\\n",
       "0  leagueoflegends  teamredditteams  1u4nrps  2013-12-31 16:39:58   \n",
       "1       theredlion           soccer   1u4qkd  2013-12-31 18:18:37   \n",
       "2     inlandempire           bikela  1u4qlzs  2014-01-01 14:54:35   \n",
       "3              nfl              cfb  1u4sjvs  2013-12-31 17:37:55   \n",
       "4       playmygame          gamedev  1u4w5ss  2014-01-01 02:51:13   \n",
       "\n",
       "   LINK_SENTIMENT  \n",
       "0               1  \n",
       "1              -1  \n",
       "2               1  \n",
       "3               1  \n",
       "4               1  "
      ]
     },
     "execution_count": 28,
     "metadata": {},
     "output_type": "execute_result"
    }
   ],
   "source": [
    "df.head()"
   ]
  },
  {
   "cell_type": "code",
   "execution_count": 29,
   "metadata": {
    "execution": {
     "iopub.execute_input": "2021-04-03T08:48:15.204157Z",
     "iopub.status.busy": "2021-04-03T08:48:15.203157Z",
     "iopub.status.idle": "2021-04-03T08:48:15.295160Z",
     "shell.execute_reply": "2021-04-03T08:48:15.293157Z",
     "shell.execute_reply.started": "2021-04-03T08:48:15.204157Z"
    }
   },
   "outputs": [
    {
     "data": {
      "text/plain": [
       "Index(['SOURCE_SUBREDDIT', 'TARGET_SUBREDDIT', 'POST_ID', 'TIMESTAMP',\n",
       "       'LINK_SENTIMENT'],\n",
       "      dtype='object')"
      ]
     },
     "execution_count": 29,
     "metadata": {},
     "output_type": "execute_result"
    }
   ],
   "source": [
    "df.columns"
   ]
  },
  {
   "cell_type": "code",
   "execution_count": 109,
   "metadata": {
    "execution": {
     "iopub.execute_input": "2021-04-03T09:37:35.358267Z",
     "iopub.status.busy": "2021-04-03T09:37:35.356262Z",
     "iopub.status.idle": "2021-04-03T09:37:36.321861Z",
     "shell.execute_reply": "2021-04-03T09:37:36.319851Z",
     "shell.execute_reply.started": "2021-04-03T09:37:35.358267Z"
    }
   },
   "outputs": [],
   "source": [
    "grouped_df =  df[['SOURCE_SUBREDDIT','TARGET_SUBREDDIT','LINK_SENTIMENT']]\n",
    "df2 = grouped_df.groupby(\n",
    "     ['SOURCE_SUBREDDIT','TARGET_SUBREDDIT']\n",
    " ).agg(\n",
    "     SENTIMENT_SUM = ('LINK_SENTIMENT','sum')\n",
    " ).reset_index()\n"
   ]
  },
  {
   "cell_type": "code",
   "execution_count": 110,
   "metadata": {
    "execution": {
     "iopub.execute_input": "2021-04-03T09:37:41.210418Z",
     "iopub.status.busy": "2021-04-03T09:37:41.207415Z",
     "iopub.status.idle": "2021-04-03T09:37:41.426402Z",
     "shell.execute_reply": "2021-04-03T09:37:41.424408Z",
     "shell.execute_reply.started": "2021-04-03T09:37:41.210418Z"
    }
   },
   "outputs": [],
   "source": [
    "df2['SENTIMENT_SUM_ABS'] = abs(df2['SENTIMENT_SUM'])\n",
    "df2 = df2.sort_values('SENTIMENT_SUM_ABS',ascending=False).reset_index(drop=True)"
   ]
  },
  {
   "cell_type": "code",
   "execution_count": 108,
   "metadata": {
    "execution": {
     "iopub.execute_input": "2021-04-03T09:36:33.345325Z",
     "iopub.status.busy": "2021-04-03T09:36:33.343329Z",
     "iopub.status.idle": "2021-04-03T09:37:10.005790Z",
     "shell.execute_reply": "2021-04-03T09:37:10.003790Z",
     "shell.execute_reply.started": "2021-04-03T09:36:33.345325Z"
    }
   },
   "outputs": [
    {
     "name": "stdout",
     "output_type": "stream",
     "text": [
      "298\n",
      "50093\n",
      "Wall time: 36.6 s\n"
     ]
    }
   ],
   "source": [
    "%%time\n",
    "# Getting 50000 edges \n",
    "df3=pd.DataFrame()\n",
    "for i in range(len(df2)):\n",
    "    n1 = df2.iloc[i]['SOURCE_SUBREDDIT']\n",
    "    n2 = df2.iloc[i]['TARGET_SUBREDDIT']\n",
    "    temp = df.loc[(df['SOURCE_SUBREDDIT'] == n1) & (df['TARGET_SUBREDDIT'] == n2)]\n",
    "    df3 = df3.append(temp,ignore_index=True)\n",
    "    if len(df3) >= 50000:\n",
    "        print(i)\n",
    "        print(len(df3))\n",
    "        break"
   ]
  },
  {
   "cell_type": "code",
   "execution_count": 120,
   "metadata": {
    "execution": {
     "iopub.execute_input": "2021-04-03T09:45:35.654094Z",
     "iopub.status.busy": "2021-04-03T09:45:35.652081Z",
     "iopub.status.idle": "2021-04-03T09:45:35.881850Z",
     "shell.execute_reply": "2021-04-03T09:45:35.880552Z",
     "shell.execute_reply.started": "2021-04-03T09:45:35.654094Z"
    }
   },
   "outputs": [],
   "source": [
    "df3['TIMESTAMP'] = pd.to_datetime(df3.TIMESTAMP)"
   ]
  },
  {
   "cell_type": "code",
   "execution_count": 122,
   "metadata": {
    "execution": {
     "iopub.execute_input": "2021-04-03T09:46:29.178114Z",
     "iopub.status.busy": "2021-04-03T09:46:29.176051Z",
     "iopub.status.idle": "2021-04-03T09:46:29.358858Z",
     "shell.execute_reply": "2021-04-03T09:46:29.358858Z",
     "shell.execute_reply.started": "2021-04-03T09:46:29.178114Z"
    }
   },
   "outputs": [
    {
     "data": {
      "text/html": [
       "<div>\n",
       "<style scoped>\n",
       "    .dataframe tbody tr th:only-of-type {\n",
       "        vertical-align: middle;\n",
       "    }\n",
       "\n",
       "    .dataframe tbody tr th {\n",
       "        vertical-align: top;\n",
       "    }\n",
       "\n",
       "    .dataframe thead th {\n",
       "        text-align: right;\n",
       "    }\n",
       "</style>\n",
       "<table border=\"1\" class=\"dataframe\">\n",
       "  <thead>\n",
       "    <tr style=\"text-align: right;\">\n",
       "      <th></th>\n",
       "      <th>SOURCE_SUBREDDIT</th>\n",
       "      <th>TARGET_SUBREDDIT</th>\n",
       "      <th>POST_ID</th>\n",
       "      <th>TIMESTAMP</th>\n",
       "      <th>LINK_SENTIMENT</th>\n",
       "    </tr>\n",
       "  </thead>\n",
       "  <tbody>\n",
       "    <tr>\n",
       "      <th>0</th>\n",
       "      <td>switcharoo</td>\n",
       "      <td>funny</td>\n",
       "      <td>1u58e6s</td>\n",
       "      <td>2013-12-31 19:35:24</td>\n",
       "      <td>1</td>\n",
       "    </tr>\n",
       "    <tr>\n",
       "      <th>1</th>\n",
       "      <td>programmingcirclejerk</td>\n",
       "      <td>programming</td>\n",
       "      <td>1u6yeos</td>\n",
       "      <td>2014-01-01 04:58:12</td>\n",
       "      <td>1</td>\n",
       "    </tr>\n",
       "    <tr>\n",
       "      <th>2</th>\n",
       "      <td>shitamericanssay</td>\n",
       "      <td>askreddit</td>\n",
       "      <td>1u645bs</td>\n",
       "      <td>2014-01-01 09:46:35</td>\n",
       "      <td>1</td>\n",
       "    </tr>\n",
       "    <tr>\n",
       "      <th>3</th>\n",
       "      <td>notcirclejerk</td>\n",
       "      <td>atheism</td>\n",
       "      <td>1u66o3s</td>\n",
       "      <td>2014-01-01 10:16:54</td>\n",
       "      <td>1</td>\n",
       "    </tr>\n",
       "    <tr>\n",
       "      <th>4</th>\n",
       "      <td>bestof</td>\n",
       "      <td>movies</td>\n",
       "      <td>1u69w0s</td>\n",
       "      <td>2014-01-01 11:39:00</td>\n",
       "      <td>1</td>\n",
       "    </tr>\n",
       "    <tr>\n",
       "      <th>...</th>\n",
       "      <td>...</td>\n",
       "      <td>...</td>\n",
       "      <td>...</td>\n",
       "      <td>...</td>\n",
       "      <td>...</td>\n",
       "    </tr>\n",
       "    <tr>\n",
       "      <th>50088</th>\n",
       "      <td>enoughlibertarianspam</td>\n",
       "      <td>anarcho_capitalism</td>\n",
       "      <td>68i03ks</td>\n",
       "      <td>2017-04-30 13:38:19</td>\n",
       "      <td>1</td>\n",
       "    </tr>\n",
       "    <tr>\n",
       "      <th>50089</th>\n",
       "      <td>ecr_eu</td>\n",
       "      <td>electronic_cigarette</td>\n",
       "      <td>68gug8s</td>\n",
       "      <td>2017-04-30 14:09:37</td>\n",
       "      <td>1</td>\n",
       "    </tr>\n",
       "    <tr>\n",
       "      <th>50090</th>\n",
       "      <td>bestof</td>\n",
       "      <td>askhistorians</td>\n",
       "      <td>68i03bs</td>\n",
       "      <td>2017-04-30 14:51:21</td>\n",
       "      <td>1</td>\n",
       "    </tr>\n",
       "    <tr>\n",
       "      <th>50091</th>\n",
       "      <td>beetlejuicing</td>\n",
       "      <td>askreddit</td>\n",
       "      <td>68i4qms</td>\n",
       "      <td>2017-04-30 15:02:20</td>\n",
       "      <td>1</td>\n",
       "    </tr>\n",
       "    <tr>\n",
       "      <th>50092</th>\n",
       "      <td>subredditdrama</td>\n",
       "      <td>movies</td>\n",
       "      <td>68ihmgs</td>\n",
       "      <td>2017-04-30 16:01:51</td>\n",
       "      <td>1</td>\n",
       "    </tr>\n",
       "  </tbody>\n",
       "</table>\n",
       "<p>50093 rows × 5 columns</p>\n",
       "</div>"
      ],
      "text/plain": [
       "            SOURCE_SUBREDDIT      TARGET_SUBREDDIT  POST_ID  \\\n",
       "0                 switcharoo                 funny  1u58e6s   \n",
       "1      programmingcirclejerk           programming  1u6yeos   \n",
       "2           shitamericanssay             askreddit  1u645bs   \n",
       "3              notcirclejerk               atheism  1u66o3s   \n",
       "4                     bestof                movies  1u69w0s   \n",
       "...                      ...                   ...      ...   \n",
       "50088  enoughlibertarianspam    anarcho_capitalism  68i03ks   \n",
       "50089                 ecr_eu  electronic_cigarette  68gug8s   \n",
       "50090                 bestof         askhistorians  68i03bs   \n",
       "50091          beetlejuicing             askreddit  68i4qms   \n",
       "50092         subredditdrama                movies  68ihmgs   \n",
       "\n",
       "                TIMESTAMP  LINK_SENTIMENT  \n",
       "0     2013-12-31 19:35:24               1  \n",
       "1     2014-01-01 04:58:12               1  \n",
       "2     2014-01-01 09:46:35               1  \n",
       "3     2014-01-01 10:16:54               1  \n",
       "4     2014-01-01 11:39:00               1  \n",
       "...                   ...             ...  \n",
       "50088 2017-04-30 13:38:19               1  \n",
       "50089 2017-04-30 14:09:37               1  \n",
       "50090 2017-04-30 14:51:21               1  \n",
       "50091 2017-04-30 15:02:20               1  \n",
       "50092 2017-04-30 16:01:51               1  \n",
       "\n",
       "[50093 rows x 5 columns]"
      ]
     },
     "execution_count": 122,
     "metadata": {},
     "output_type": "execute_result"
    }
   ],
   "source": [
    "df3 = df3.sort_values('TIMESTAMP',ascending=True).reset_index(drop=True)"
   ]
  },
  {
   "cell_type": "code",
   "execution_count": 139,
   "metadata": {
    "execution": {
     "iopub.execute_input": "2021-04-03T10:20:19.195300Z",
     "iopub.status.busy": "2021-04-03T10:20:19.195300Z",
     "iopub.status.idle": "2021-04-03T10:20:19.798778Z",
     "shell.execute_reply": "2021-04-03T10:20:19.798778Z",
     "shell.execute_reply.started": "2021-04-03T10:20:19.195300Z"
    }
   },
   "outputs": [],
   "source": [
    "df3.to_csv('Sentiment Weighted Sum.csv',index=False)"
   ]
  },
  {
   "cell_type": "code",
   "execution_count": 123,
   "metadata": {
    "execution": {
     "iopub.execute_input": "2021-04-03T10:00:26.152476Z",
     "iopub.status.busy": "2021-04-03T10:00:26.152476Z",
     "iopub.status.idle": "2021-04-03T10:00:26.854901Z",
     "shell.execute_reply": "2021-04-03T10:00:26.854901Z",
     "shell.execute_reply.started": "2021-04-03T10:00:26.152476Z"
    }
   },
   "outputs": [],
   "source": [
    "G = nx.from_pandas_edgelist(df3,source='SOURCE_SUBREDDIT', target='TARGET_SUBREDDIT', edge_attr=['LINK_SENTIMENT'], create_using=nx.MultiDiGraph())"
   ]
  },
  {
   "cell_type": "code",
   "execution_count": 124,
   "metadata": {
    "execution": {
     "iopub.execute_input": "2021-04-03T10:00:36.384052Z",
     "iopub.status.busy": "2021-04-03T10:00:36.384052Z",
     "iopub.status.idle": "2021-04-03T10:00:36.408062Z",
     "shell.execute_reply": "2021-04-03T10:00:36.408062Z",
     "shell.execute_reply.started": "2021-04-03T10:00:36.384052Z"
    }
   },
   "outputs": [
    {
     "name": "stdout",
     "output_type": "stream",
     "text": [
      "Name: \n",
      "Type: MultiDiGraph\n",
      "Number of nodes: 316\n",
      "Number of edges: 50093\n",
      "Average in degree: 158.5222\n",
      "Average out degree: 158.5222\n"
     ]
    }
   ],
   "source": [
    "print(nx.info(G))"
   ]
  },
  {
   "cell_type": "code",
   "execution_count": 125,
   "metadata": {
    "execution": {
     "iopub.execute_input": "2021-04-03T10:01:26.033885Z",
     "iopub.status.busy": "2021-04-03T10:01:26.025877Z",
     "iopub.status.idle": "2021-04-03T10:01:26.089871Z",
     "shell.execute_reply": "2021-04-03T10:01:26.089871Z",
     "shell.execute_reply.started": "2021-04-03T10:01:26.033885Z"
    }
   },
   "outputs": [
    {
     "data": {
      "text/plain": [
       "307"
      ]
     },
     "execution_count": 125,
     "metadata": {},
     "output_type": "execute_result"
    }
   ],
   "source": [
    "nx.number_strongly_connected_components(G)"
   ]
  },
  {
   "cell_type": "code",
   "execution_count": 126,
   "metadata": {
    "execution": {
     "iopub.execute_input": "2021-04-03T10:01:29.420973Z",
     "iopub.status.busy": "2021-04-03T10:01:29.420973Z",
     "iopub.status.idle": "2021-04-03T10:01:29.468952Z",
     "shell.execute_reply": "2021-04-03T10:01:29.468952Z",
     "shell.execute_reply.started": "2021-04-03T10:01:29.420973Z"
    }
   },
   "outputs": [
    {
     "data": {
      "text/plain": [
       "101"
      ]
     },
     "execution_count": 126,
     "metadata": {},
     "output_type": "execute_result"
    }
   ],
   "source": [
    "nx.number_weakly_connected_components(G)"
   ]
  },
  {
   "cell_type": "code",
   "execution_count": 127,
   "metadata": {
    "execution": {
     "iopub.execute_input": "2021-04-03T10:01:59.619286Z",
     "iopub.status.busy": "2021-04-03T10:01:59.611208Z",
     "iopub.status.idle": "2021-04-03T10:08:19.839461Z",
     "shell.execute_reply": "2021-04-03T10:08:19.839226Z",
     "shell.execute_reply.started": "2021-04-03T10:01:59.619286Z"
    }
   },
   "outputs": [
    {
     "data": {
      "image/png": "[encoded data removed]",
      "text/plain": [
       "<Figure size 432x288 with 1 Axes>"
      ]
     },
     "metadata": {},
     "output_type": "display_data"
    }
   ],
   "source": [
    "nx.draw(G)"
   ]
  },
  {
   "cell_type": "code",
   "execution_count": 128,
   "metadata": {
    "execution": {
     "iopub.execute_input": "2021-04-03T10:12:46.687340Z",
     "iopub.status.busy": "2021-04-03T10:12:46.687340Z",
     "iopub.status.idle": "2021-04-03T10:12:46.751351Z",
     "shell.execute_reply": "2021-04-03T10:12:46.751351Z",
     "shell.execute_reply.started": "2021-04-03T10:12:46.687340Z"
    }
   },
   "outputs": [],
   "source": [
    "df2_neg = df2.loc[df2['SENTIMENT_SUM']<0]\n"
   ]
  },
  {
   "cell_type": "code",
   "execution_count": 129,
   "metadata": {
    "execution": {
     "iopub.execute_input": "2021-04-03T10:12:47.423832Z",
     "iopub.status.busy": "2021-04-03T10:12:47.423832Z",
     "iopub.status.idle": "2021-04-03T10:12:47.511817Z",
     "shell.execute_reply": "2021-04-03T10:12:47.511817Z",
     "shell.execute_reply.started": "2021-04-03T10:12:47.423832Z"
    }
   },
   "outputs": [
    {
     "data": {
      "text/html": [
       "<div>\n",
       "<style scoped>\n",
       "    .dataframe tbody tr th:only-of-type {\n",
       "        vertical-align: middle;\n",
       "    }\n",
       "\n",
       "    .dataframe tbody tr th {\n",
       "        vertical-align: top;\n",
       "    }\n",
       "\n",
       "    .dataframe thead th {\n",
       "        text-align: right;\n",
       "    }\n",
       "</style>\n",
       "<table border=\"1\" class=\"dataframe\">\n",
       "  <thead>\n",
       "    <tr style=\"text-align: right;\">\n",
       "      <th></th>\n",
       "      <th>SOURCE_SUBREDDIT</th>\n",
       "      <th>TARGET_SUBREDDIT</th>\n",
       "      <th>SENTIMENT_SUM</th>\n",
       "      <th>SENTIMENT_SUM_ABS</th>\n",
       "    </tr>\n",
       "  </thead>\n",
       "  <tbody>\n",
       "    <tr>\n",
       "      <th>2672</th>\n",
       "      <td>hearthstone</td>\n",
       "      <td>hearthstonecirclejerk</td>\n",
       "      <td>-25</td>\n",
       "      <td>25</td>\n",
       "    </tr>\n",
       "    <tr>\n",
       "      <th>3240</th>\n",
       "      <td>angryblackladies</td>\n",
       "      <td>blackladies</td>\n",
       "      <td>-22</td>\n",
       "      <td>22</td>\n",
       "    </tr>\n",
       "    <tr>\n",
       "      <th>5656</th>\n",
       "      <td>drama</td>\n",
       "      <td>news</td>\n",
       "      <td>-15</td>\n",
       "      <td>15</td>\n",
       "    </tr>\n",
       "    <tr>\n",
       "      <th>6522</th>\n",
       "      <td>publichealthwatch</td>\n",
       "      <td>abortion</td>\n",
       "      <td>-13</td>\n",
       "      <td>13</td>\n",
       "    </tr>\n",
       "    <tr>\n",
       "      <th>6661</th>\n",
       "      <td>drama</td>\n",
       "      <td>videos</td>\n",
       "      <td>-13</td>\n",
       "      <td>13</td>\n",
       "    </tr>\n",
       "  </tbody>\n",
       "</table>\n",
       "</div>"
      ],
      "text/plain": [
       "       SOURCE_SUBREDDIT       TARGET_SUBREDDIT  SENTIMENT_SUM  \\\n",
       "2672        hearthstone  hearthstonecirclejerk            -25   \n",
       "3240   angryblackladies            blackladies            -22   \n",
       "5656              drama                   news            -15   \n",
       "6522  publichealthwatch               abortion            -13   \n",
       "6661              drama                 videos            -13   \n",
       "\n",
       "      SENTIMENT_SUM_ABS  \n",
       "2672                 25  \n",
       "3240                 22  \n",
       "5656                 15  \n",
       "6522                 13  \n",
       "6661                 13  "
      ]
     },
     "execution_count": 129,
     "metadata": {},
     "output_type": "execute_result"
    }
   ],
   "source": [
    "df2_neg.head()"
   ]
  },
  {
   "cell_type": "code",
   "execution_count": 141,
   "metadata": {
    "execution": {
     "iopub.execute_input": "2021-04-03T10:57:29.428522Z",
     "iopub.status.busy": "2021-04-03T10:57:29.427520Z",
     "iopub.status.idle": "2021-04-03T11:40:26.002564Z",
     "shell.execute_reply": "2021-04-03T11:40:25.998562Z",
     "shell.execute_reply.started": "2021-04-03T10:57:29.428522Z"
    }
   },
   "outputs": [
    {
     "name": "stdout",
     "output_type": "stream",
     "text": [
      "Wall time: 42min 56s\n"
     ]
    }
   ],
   "source": [
    "%%time\n",
    "# Getting 50000 edges \n",
    "\n",
    "df4=pd.DataFrame()\n",
    "for i in range(len(df2_neg)):\n",
    "    n1 = df2_neg.iloc[i]['SOURCE_SUBREDDIT']\n",
    "    n2 = df2_neg.iloc[i]['TARGET_SUBREDDIT']\n",
    "    temp = df.loc[(df['SOURCE_SUBREDDIT'] == n1) & (df['TARGET_SUBREDDIT'] == n2)]\n",
    "    df4 = df4.append(temp,ignore_index=True)\n",
    "    if len(df4) >= 50000:\n",
    "        print(i)\n",
    "        print(len(df4))\n",
    "        break"
   ]
  },
  {
   "cell_type": "code",
   "execution_count": 142,
   "metadata": {
    "execution": {
     "iopub.execute_input": "2021-04-03T11:45:55.869779Z",
     "iopub.status.busy": "2021-04-03T11:45:55.867770Z",
     "iopub.status.idle": "2021-04-03T11:45:55.914765Z",
     "shell.execute_reply": "2021-04-03T11:45:55.911765Z",
     "shell.execute_reply.started": "2021-04-03T11:45:55.869779Z"
    }
   },
   "outputs": [
    {
     "data": {
      "text/plain": [
       "27019"
      ]
     },
     "execution_count": 142,
     "metadata": {},
     "output_type": "execute_result"
    }
   ],
   "source": [
    "len(df4)"
   ]
  },
  {
   "cell_type": "code",
   "execution_count": 144,
   "metadata": {
    "execution": {
     "iopub.execute_input": "2021-04-03T11:46:21.599564Z",
     "iopub.status.busy": "2021-04-03T11:46:21.599564Z",
     "iopub.status.idle": "2021-04-03T11:46:21.686566Z",
     "shell.execute_reply": "2021-04-03T11:46:21.684703Z",
     "shell.execute_reply.started": "2021-04-03T11:46:21.599564Z"
    }
   },
   "outputs": [],
   "source": [
    "df4['TIMESTAMP'] = pd.to_datetime(df4.TIMESTAMP)\n",
    "df4 = df4.sort_values('TIMESTAMP',ascending=True).reset_index(drop=True)"
   ]
  },
  {
   "cell_type": "code",
   "execution_count": 145,
   "metadata": {
    "execution": {
     "iopub.execute_input": "2021-04-03T11:46:48.928184Z",
     "iopub.status.busy": "2021-04-03T11:46:48.927184Z",
     "iopub.status.idle": "2021-04-03T11:46:49.337838Z",
     "shell.execute_reply": "2021-04-03T11:46:49.337838Z",
     "shell.execute_reply.started": "2021-04-03T11:46:48.928184Z"
    }
   },
   "outputs": [],
   "source": [
    "df4.to_csv('Sentiment Weighted Negative Sum.csv',index=False)"
   ]
  },
  {
   "cell_type": "code",
   "execution_count": 146,
   "metadata": {
    "execution": {
     "iopub.execute_input": "2021-04-03T11:47:09.684143Z",
     "iopub.status.busy": "2021-04-03T11:47:09.682146Z",
     "iopub.status.idle": "2021-04-03T11:47:13.886421Z",
     "shell.execute_reply": "2021-04-03T11:47:13.886421Z",
     "shell.execute_reply.started": "2021-04-03T11:47:09.684143Z"
    }
   },
   "outputs": [],
   "source": [
    "G2 = nx.from_pandas_edgelist(df4,source='SOURCE_SUBREDDIT', target='TARGET_SUBREDDIT', edge_attr=['LINK_SENTIMENT'], create_using=nx.MultiDiGraph())"
   ]
  },
  {
   "cell_type": "code",
   "execution_count": 149,
   "metadata": {
    "execution": {
     "iopub.execute_input": "2021-04-03T11:47:57.489617Z",
     "iopub.status.busy": "2021-04-03T11:47:57.488619Z",
     "iopub.status.idle": "2021-04-03T11:47:57.611617Z",
     "shell.execute_reply": "2021-04-03T11:47:57.609618Z",
     "shell.execute_reply.started": "2021-04-03T11:47:57.489617Z"
    }
   },
   "outputs": [
    {
     "name": "stdout",
     "output_type": "stream",
     "text": [
      "Name: \n",
      "Type: MultiDiGraph\n",
      "Number of nodes: 9401\n",
      "Number of edges: 27019\n",
      "Average in degree:   2.8741\n",
      "Average out degree:   2.8741\n"
     ]
    }
   ],
   "source": [
    "print(nx.info(G2))"
   ]
  },
  {
   "cell_type": "code",
   "execution_count": 150,
   "metadata": {
    "execution": {
     "iopub.execute_input": "2021-04-03T11:48:20.142526Z",
     "iopub.status.busy": "2021-04-03T11:48:20.140529Z",
     "iopub.status.idle": "2021-04-03T11:48:20.322520Z",
     "shell.execute_reply": "2021-04-03T11:48:20.321520Z",
     "shell.execute_reply.started": "2021-04-03T11:48:20.142526Z"
    }
   },
   "outputs": [
    {
     "data": {
      "text/plain": [
       "7826"
      ]
     },
     "execution_count": 150,
     "metadata": {},
     "output_type": "execute_result"
    }
   ],
   "source": [
    "nx.number_strongly_connected_components(G2)"
   ]
  },
  {
   "cell_type": "code",
   "execution_count": 151,
   "metadata": {
    "execution": {
     "iopub.execute_input": "2021-04-03T11:48:21.520193Z",
     "iopub.status.busy": "2021-04-03T11:48:21.519197Z",
     "iopub.status.idle": "2021-04-03T11:48:21.727157Z",
     "shell.execute_reply": "2021-04-03T11:48:21.726149Z",
     "shell.execute_reply.started": "2021-04-03T11:48:21.520193Z"
    }
   },
   "outputs": [
    {
     "data": {
      "text/plain": [
       "486"
      ]
     },
     "execution_count": 151,
     "metadata": {},
     "output_type": "execute_result"
    }
   ],
   "source": [
    "nx.number_weakly_connected_components(G2)"
   ]
  }
 ],
 "metadata": {
  "kernelspec": {
   "display_name": "Python 3",
   "language": "python",
   "name": "python3"
  },
  "language_info": {
   "codemirror_mode": {
    "name": "ipython",
    "version": 3
   },
   "file_extension": ".py",
   "mimetype": "text/x-python",
   "name": "python",
   "nbconvert_exporter": "python",
   "pygments_lexer": "ipython3",
   "version": "3.8.5"
  }
 },
 "nbformat": 4,
 "nbformat_minor": 4
}
