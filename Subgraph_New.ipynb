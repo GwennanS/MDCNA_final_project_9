{
 "cells": [
  {
   "cell_type": "code",
   "execution_count": 1,
   "metadata": {
    "execution": {
     "iopub.execute_input": "2021-04-09T15:26:20.743972Z",
     "iopub.status.busy": "2021-04-09T15:26:20.739998Z",
     "iopub.status.idle": "2021-04-09T15:26:37.680514Z",
     "shell.execute_reply": "2021-04-09T15:26:37.677491Z",
     "shell.execute_reply.started": "2021-04-09T15:26:20.742968Z"
    }
   },
   "outputs": [],
   "source": [
    "import networkx as nx\n",
    "import pandas as pd\n",
    "import numpy as np \n",
    "import matplotlib.pyplot as plt\n",
    "import math\n",
    "import scipy\n",
    "import matplotlib.pyplot as plt \n",
    "import random"
   ]
  },
  {
   "cell_type": "code",
   "execution_count": 89,
   "metadata": {
    "execution": {
     "iopub.execute_input": "2021-04-09T16:35:20.493012Z",
     "iopub.status.busy": "2021-04-09T16:35:20.490008Z",
     "iopub.status.idle": "2021-04-09T16:36:12.850734Z",
     "shell.execute_reply": "2021-04-09T16:36:12.848735Z",
     "shell.execute_reply.started": "2021-04-09T16:35:20.492007Z"
    }
   },
   "outputs": [],
   "source": [
    "bodyData = pd.read_csv(\"soc-redditHyperlinks-body.tsv\", sep='\\t')\n",
    "titleData = pd.read_csv(\"soc-redditHyperlinks-title.tsv\", sep='\\t')\n",
    "df = bodyData.append(titleData, ignore_index=True)\n",
    "del df['PROPERTIES']"
   ]
  },
  {
   "cell_type": "code",
   "execution_count": 3,
   "metadata": {
    "execution": {
     "iopub.execute_input": "2021-04-09T15:26:57.929760Z",
     "iopub.status.busy": "2021-04-09T15:26:57.928759Z",
     "iopub.status.idle": "2021-04-09T15:26:58.741749Z",
     "shell.execute_reply": "2021-04-09T15:26:58.740058Z",
     "shell.execute_reply.started": "2021-04-09T15:26:57.929760Z"
    }
   },
   "outputs": [],
   "source": [
    "grouped_df =  df[['SOURCE_SUBREDDIT','TARGET_SUBREDDIT','LINK_SENTIMENT']]\n",
    "df2 = grouped_df.groupby(\n",
    "     ['SOURCE_SUBREDDIT','TARGET_SUBREDDIT']\n",
    " ).agg(\n",
    "     SENTIMENT_SUM = ('LINK_SENTIMENT','sum')\n",
    " ).reset_index()"
   ]
  },
  {
   "cell_type": "code",
   "execution_count": 4,
   "metadata": {
    "execution": {
     "iopub.execute_input": "2021-04-09T15:26:58.743749Z",
     "iopub.status.busy": "2021-04-09T15:26:58.743749Z",
     "iopub.status.idle": "2021-04-09T15:26:59.663864Z",
     "shell.execute_reply": "2021-04-09T15:26:59.662841Z",
     "shell.execute_reply.started": "2021-04-09T15:26:58.743749Z"
    }
   },
   "outputs": [],
   "source": [
    "df2['SENTIMENT_SUM_ABS'] = abs(df2['SENTIMENT_SUM'])\n",
    "df2 = df2.sort_values('SENTIMENT_SUM_ABS',ascending=False).reset_index(drop=True)"
   ]
  },
  {
   "cell_type": "code",
   "execution_count": 32,
   "metadata": {
    "execution": {
     "iopub.execute_input": "2021-04-09T16:03:21.561429Z",
     "iopub.status.busy": "2021-04-09T16:03:21.560415Z",
     "iopub.status.idle": "2021-04-09T16:03:22.102374Z",
     "shell.execute_reply": "2021-04-09T16:03:22.097647Z",
     "shell.execute_reply.started": "2021-04-09T16:03:21.561429Z"
    }
   },
   "outputs": [],
   "source": [
    "negative_sum = df2.loc[df2['SENTIMENT_SUM']<0]"
   ]
  },
  {
   "cell_type": "code",
   "execution_count": 80,
   "metadata": {
    "execution": {
     "iopub.execute_input": "2021-04-09T16:34:00.459355Z",
     "iopub.status.busy": "2021-04-09T16:34:00.458357Z",
     "iopub.status.idle": "2021-04-09T16:34:00.484354Z",
     "shell.execute_reply": "2021-04-09T16:34:00.479364Z",
     "shell.execute_reply.started": "2021-04-09T16:34:00.459355Z"
    }
   },
   "outputs": [],
   "source": [
    "top_100_nodes = []\n",
    "top_100_nodes_negative = []\n",
    "top_100_nodes_positive_source = []\n",
    "top_100_nodes_positive_target = []\n",
    "top_100_nodes_negative_source = []\n",
    "top_100_nodes_negative_target = []"
   ]
  },
  {
   "cell_type": "code",
   "execution_count": 81,
   "metadata": {
    "execution": {
     "iopub.execute_input": "2021-04-09T16:34:00.652389Z",
     "iopub.status.busy": "2021-04-09T16:34:00.652389Z",
     "iopub.status.idle": "2021-04-09T16:34:00.956690Z",
     "shell.execute_reply": "2021-04-09T16:34:00.950689Z",
     "shell.execute_reply.started": "2021-04-09T16:34:00.652389Z"
    }
   },
   "outputs": [
    {
     "data": {
      "text/html": [
       "<div>\n",
       "<style scoped>\n",
       "    .dataframe tbody tr th:only-of-type {\n",
       "        vertical-align: middle;\n",
       "    }\n",
       "\n",
       "    .dataframe tbody tr th {\n",
       "        vertical-align: top;\n",
       "    }\n",
       "\n",
       "    .dataframe thead th {\n",
       "        text-align: right;\n",
       "    }\n",
       "</style>\n",
       "<table border=\"1\" class=\"dataframe\">\n",
       "  <thead>\n",
       "    <tr style=\"text-align: right;\">\n",
       "      <th></th>\n",
       "      <th>SOURCE_SUBREDDIT</th>\n",
       "      <th>TARGET_SUBREDDIT</th>\n",
       "      <th>SENTIMENT_SUM</th>\n",
       "      <th>SENTIMENT_SUM_ABS</th>\n",
       "    </tr>\n",
       "  </thead>\n",
       "  <tbody>\n",
       "    <tr>\n",
       "      <th>0</th>\n",
       "      <td>trendingsubreddits</td>\n",
       "      <td>changelog</td>\n",
       "      <td>548</td>\n",
       "      <td>548</td>\n",
       "    </tr>\n",
       "    <tr>\n",
       "      <th>1</th>\n",
       "      <td>moronicmondayandroid</td>\n",
       "      <td>android</td>\n",
       "      <td>478</td>\n",
       "      <td>478</td>\n",
       "    </tr>\n",
       "    <tr>\n",
       "      <th>2</th>\n",
       "      <td>goodshibe</td>\n",
       "      <td>dogecoin</td>\n",
       "      <td>299</td>\n",
       "      <td>299</td>\n",
       "    </tr>\n",
       "    <tr>\n",
       "      <th>3</th>\n",
       "      <td>nightlypick</td>\n",
       "      <td>hockey</td>\n",
       "      <td>296</td>\n",
       "      <td>296</td>\n",
       "    </tr>\n",
       "    <tr>\n",
       "      <th>4</th>\n",
       "      <td>titlegore</td>\n",
       "      <td>todayilearned</td>\n",
       "      <td>279</td>\n",
       "      <td>279</td>\n",
       "    </tr>\n",
       "  </tbody>\n",
       "</table>\n",
       "</div>"
      ],
      "text/plain": [
       "       SOURCE_SUBREDDIT TARGET_SUBREDDIT  SENTIMENT_SUM  SENTIMENT_SUM_ABS\n",
       "0    trendingsubreddits        changelog            548                548\n",
       "1  moronicmondayandroid          android            478                478\n",
       "2             goodshibe         dogecoin            299                299\n",
       "3           nightlypick           hockey            296                296\n",
       "4             titlegore    todayilearned            279                279"
      ]
     },
     "execution_count": 81,
     "metadata": {},
     "output_type": "execute_result"
    }
   ],
   "source": [
    "df2.head()"
   ]
  },
  {
   "cell_type": "code",
   "execution_count": 82,
   "metadata": {
    "execution": {
     "iopub.execute_input": "2021-04-09T16:34:01.131683Z",
     "iopub.status.busy": "2021-04-09T16:34:01.130682Z",
     "iopub.status.idle": "2021-04-09T16:34:01.213687Z",
     "shell.execute_reply": "2021-04-09T16:34:01.212675Z",
     "shell.execute_reply.started": "2021-04-09T16:34:01.131683Z"
    }
   },
   "outputs": [
    {
     "name": "stdout",
     "output_type": "stream",
     "text": [
      "75\n"
     ]
    }
   ],
   "source": [
    "top_100_nodes = []\n",
    "for idx, row in df2.iterrows():\n",
    "    \n",
    "    top_100_nodes.append(row['SOURCE_SUBREDDIT'])\n",
    "    top_100_nodes.append(row['TARGET_SUBREDDIT'])\n",
    "    if len(set(top_100_nodes)) == 100:\n",
    "        top_100_nodes = list(dict.fromkeys(top_100_nodes))\n",
    "        print(idx)\n",
    "        break"
   ]
  },
  {
   "cell_type": "code",
   "execution_count": 83,
   "metadata": {
    "execution": {
     "iopub.execute_input": "2021-04-09T16:34:01.816816Z",
     "iopub.status.busy": "2021-04-09T16:34:01.814821Z",
     "iopub.status.idle": "2021-04-09T16:34:01.921806Z",
     "shell.execute_reply": "2021-04-09T16:34:01.919799Z",
     "shell.execute_reply.started": "2021-04-09T16:34:01.816816Z"
    }
   },
   "outputs": [
    {
     "name": "stdout",
     "output_type": "stream",
     "text": [
      "26270\n"
     ]
    }
   ],
   "source": [
    "top_100_nodes_negative = []\n",
    "for idx, row in negative_sum.iterrows():\n",
    "    top_100_nodes_negative.append(row['SOURCE_SUBREDDIT'])\n",
    "    top_100_nodes_negative.append(row['TARGET_SUBREDDIT'])\n",
    "    if len(set(top_100_nodes_negative)) == 100:\n",
    "        top_100_nodes_negative = list(dict.fromkeys(top_100_nodes_negative))\n",
    "        print(idx)\n",
    "        break"
   ]
  },
  {
   "cell_type": "code",
   "execution_count": 84,
   "metadata": {
    "execution": {
     "iopub.execute_input": "2021-04-09T16:34:02.655166Z",
     "iopub.status.busy": "2021-04-09T16:34:02.654165Z",
     "iopub.status.idle": "2021-04-09T16:34:02.669205Z",
     "shell.execute_reply": "2021-04-09T16:34:02.667164Z",
     "shell.execute_reply.started": "2021-04-09T16:34:02.655166Z"
    }
   },
   "outputs": [],
   "source": [
    "top_100_nodes_positive_source = df2['SOURCE_SUBREDDIT'][:157].to_list()\n",
    "top_100_nodes_positive_source = list(dict.fromkeys(top_100_nodes_positive_source))"
   ]
  },
  {
   "cell_type": "code",
   "execution_count": 85,
   "metadata": {
    "execution": {
     "iopub.execute_input": "2021-04-09T16:34:03.832265Z",
     "iopub.status.busy": "2021-04-09T16:34:03.831249Z",
     "iopub.status.idle": "2021-04-09T16:34:03.848249Z",
     "shell.execute_reply": "2021-04-09T16:34:03.846250Z",
     "shell.execute_reply.started": "2021-04-09T16:34:03.832265Z"
    }
   },
   "outputs": [],
   "source": [
    "top_100_nodes_positive_target = df2['TARGET_SUBREDDIT'][:169].to_list()\n",
    "top_100_nodes_positive_target = list(dict.fromkeys(top_100_nodes_positive_target))"
   ]
  },
  {
   "cell_type": "code",
   "execution_count": 86,
   "metadata": {
    "execution": {
     "iopub.execute_input": "2021-04-09T16:34:04.277254Z",
     "iopub.status.busy": "2021-04-09T16:34:04.277254Z",
     "iopub.status.idle": "2021-04-09T16:34:04.286249Z",
     "shell.execute_reply": "2021-04-09T16:34:04.285249Z",
     "shell.execute_reply.started": "2021-04-09T16:34:04.277254Z"
    }
   },
   "outputs": [],
   "source": [
    "top_100_nodes_negative_target = negative_sum['TARGET_SUBREDDIT'][:127].to_list()\n",
    "top_100_nodes_negative_target = list(dict.fromkeys(top_100_nodes_negative_target))"
   ]
  },
  {
   "cell_type": "code",
   "execution_count": 88,
   "metadata": {
    "execution": {
     "iopub.execute_input": "2021-04-09T16:34:08.898368Z",
     "iopub.status.busy": "2021-04-09T16:34:08.896380Z",
     "iopub.status.idle": "2021-04-09T16:34:08.938368Z",
     "shell.execute_reply": "2021-04-09T16:34:08.931369Z",
     "shell.execute_reply.started": "2021-04-09T16:34:08.898368Z"
    }
   },
   "outputs": [],
   "source": [
    "top_100_nodes_negative_source = negative_sum['SOURCE_SUBREDDIT'][:218].to_list()\n",
    "top_100_nodes_negative_source = list(dict.fromkeys(top_100_nodes_negative_source))"
   ]
  },
  {
   "cell_type": "code",
   "execution_count": 103,
   "metadata": {
    "execution": {
     "iopub.execute_input": "2021-04-09T17:33:08.372397Z",
     "iopub.status.busy": "2021-04-09T17:33:08.368394Z",
     "iopub.status.idle": "2021-04-09T17:33:13.998693Z",
     "shell.execute_reply": "2021-04-09T17:33:13.995670Z",
     "shell.execute_reply.started": "2021-04-09T17:33:08.372397Z"
    }
   },
   "outputs": [],
   "source": [
    "Graph_n = nx.from_pandas_edgelist(df,source='SOURCE_SUBREDDIT', target='TARGET_SUBREDDIT', edge_attr=['LINK_SENTIMENT'], create_using=nx.DiGraph())"
   ]
  },
  {
   "cell_type": "code",
   "execution_count": 104,
   "metadata": {
    "execution": {
     "iopub.execute_input": "2021-04-09T17:33:14.002696Z",
     "iopub.status.busy": "2021-04-09T17:33:14.002696Z",
     "iopub.status.idle": "2021-04-09T17:33:14.047622Z",
     "shell.execute_reply": "2021-04-09T17:33:14.045439Z",
     "shell.execute_reply.started": "2021-04-09T17:33:14.002696Z"
    }
   },
   "outputs": [],
   "source": [
    "def create_subgraph(Graph_n,rankingtop100):  \n",
    "    connected_nodes1 = []\n",
    "    for u in range(len(rankingtop100)):\n",
    "        connected_nodes1.append(list(Graph_n.neighbors(rankingtop100[u])))\n",
    "\n",
    "    amount_of_connected_nodes = np.zeros(len(rankingtop100))\n",
    "\n",
    "    connected_nodes1_random = []\n",
    "\n",
    "    for u in range(len(rankingtop100)):\n",
    "        amount_of_connected_nodes = int(0.2 * len(connected_nodes1[u]))\n",
    "        connected_nodes1_random.append(random.sample(connected_nodes1[u], amount_of_connected_nodes))\n",
    "\n",
    "    temp_list = []\n",
    "\n",
    "    for u in range(len(connected_nodes1_random)):\n",
    "        for i in connected_nodes1_random[u]:\n",
    "            if i not in temp_list:\n",
    "                temp_list.append(i)\n",
    "\n",
    "    unique_connected_nodes = []\n",
    "    for u in range(len(connected_nodes1_random)):\n",
    "        unique_connected_nodes.append(set(connected_nodes1_random[u]) & set(temp_list))\n",
    "\n",
    "    connected_nodes2 = []\n",
    "    for u in range(len(rankingtop100)):\n",
    "        for i in range(len(unique_connected_nodes[u])):\n",
    "            connected_nodes2.append(list(Graph_n.neighbors(list(unique_connected_nodes[u])[i])))\n",
    "\n",
    "    connected_nodes2_random = []\n",
    "    connected_nodes2_without_nodes1 = []\n",
    "\n",
    "    for u in range(len(rankingtop100)):\n",
    "        connected_nodes2_without_nodes1 = list(set(connected_nodes2[u])^set(connected_nodes1[u]))\n",
    "        amount_of_connected_nodes = int(0.2 * len(connected_nodes2_without_nodes1))\n",
    "        connected_nodes2_random.append(random.sample(connected_nodes2_without_nodes1, amount_of_connected_nodes))\n",
    "\n",
    "\n",
    "    final_node_set = []\n",
    "\n",
    "    for u in range(len(rankingtop100)):\n",
    "        final_neighbor_set = set(connected_nodes2_random[u]) | set(connected_nodes1_random[u])\n",
    "        final_node_set.append(final_neighbor_set | set([rankingtop100[u]]))\n",
    "\n",
    "    final_node_list = []\n",
    "    for u in range(len(final_node_set)):\n",
    "        final_node_list.append(list(final_node_set[u]))\n",
    "\n",
    "\n",
    "    final_node_list_unique = []\n",
    "\n",
    "    for u in range(len(final_node_set)):\n",
    "        for i in final_node_list[u]:\n",
    "            if i not in final_node_list_unique:\n",
    "                final_node_list_unique.append(i)\n",
    "\n",
    "\n",
    "    ranked_graph = Graph_n.subgraph(list(final_node_list_unique))\n",
    "    \n",
    "    return ranked_graph"
   ]
  },
  {
   "cell_type": "code",
   "execution_count": 112,
   "metadata": {
    "execution": {
     "iopub.execute_input": "2021-04-09T19:37:27.961415Z",
     "iopub.status.busy": "2021-04-09T19:37:27.959430Z",
     "iopub.status.idle": "2021-04-09T19:37:30.224484Z",
     "shell.execute_reply": "2021-04-09T19:37:30.223648Z",
     "shell.execute_reply.started": "2021-04-09T19:37:27.960410Z"
    }
   },
   "outputs": [],
   "source": [
    "G = create_subgraph(Graph_n,top_100_nodes)"
   ]
  },
  {
   "cell_type": "code",
   "execution_count": 113,
   "metadata": {
    "execution": {
     "iopub.execute_input": "2021-04-09T19:37:30.227507Z",
     "iopub.status.busy": "2021-04-09T19:37:30.227507Z",
     "iopub.status.idle": "2021-04-09T19:37:31.016644Z",
     "shell.execute_reply": "2021-04-09T19:37:31.015650Z",
     "shell.execute_reply.started": "2021-04-09T19:37:30.227507Z"
    }
   },
   "outputs": [
    {
     "name": "stdout",
     "output_type": "stream",
     "text": [
      "Name: \n",
      "Type: DiGraph\n",
      "Number of nodes: 4672\n",
      "Number of edges: 122912\n",
      "Average in degree:  26.3082\n",
      "Average out degree:  26.3082\n"
     ]
    }
   ],
   "source": [
    "print(nx.info(G))"
   ]
  },
  {
   "cell_type": "code",
   "execution_count": 114,
   "metadata": {
    "execution": {
     "iopub.execute_input": "2021-04-09T19:37:31.018639Z",
     "iopub.status.busy": "2021-04-09T19:37:31.018639Z",
     "iopub.status.idle": "2021-04-09T19:37:32.098074Z",
     "shell.execute_reply": "2021-04-09T19:37:32.097069Z",
     "shell.execute_reply.started": "2021-04-09T19:37:31.018639Z"
    }
   },
   "outputs": [
    {
     "data": {
      "text/plain": [
       "587"
      ]
     },
     "execution_count": 114,
     "metadata": {},
     "output_type": "execute_result"
    }
   ],
   "source": [
    "nx.number_strongly_connected_components(G)"
   ]
  },
  {
   "cell_type": "code",
   "execution_count": 115,
   "metadata": {
    "execution": {
     "iopub.execute_input": "2021-04-09T19:37:35.724726Z",
     "iopub.status.busy": "2021-04-09T19:37:35.723731Z",
     "iopub.status.idle": "2021-04-09T19:37:36.246181Z",
     "shell.execute_reply": "2021-04-09T19:37:36.245181Z",
     "shell.execute_reply.started": "2021-04-09T19:37:35.724726Z"
    }
   },
   "outputs": [
    {
     "data": {
      "text/plain": [
       "1"
      ]
     },
     "execution_count": 115,
     "metadata": {},
     "output_type": "execute_result"
    }
   ],
   "source": [
    "nx.number_weakly_connected_components(G)"
   ]
  }
 ],
 "metadata": {
  "kernelspec": {
   "display_name": "Python 3",
   "language": "python",
   "name": "python3"
  },
  "language_info": {
   "codemirror_mode": {
    "name": "ipython",
    "version": 3
   },
   "file_extension": ".py",
   "mimetype": "text/x-python",
   "name": "python",
   "nbconvert_exporter": "python",
   "pygments_lexer": "ipython3",
   "version": "3.8.5"
  }
 },
 "nbformat": 4,
 "nbformat_minor": 4
}
