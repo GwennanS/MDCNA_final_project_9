{
 "cells": [
  {
   "cell_type": "code",
   "execution_count": 7,
   "metadata": {},
   "outputs": [
    {
     "name": "stdout",
     "output_type": "stream",
     "text": [
      "Loading in data...\n",
      "                  source               target            TIMESTAMP\n",
      "0        leagueoflegends      teamredditteams  2013-12-31 16:39:58\n",
      "1             theredlion               soccer  2013-12-31 18:18:37\n",
      "2           inlandempire               bikela  2014-01-01 14:54:35\n",
      "3                    nfl                  cfb  2013-12-31 17:37:55\n",
      "4             playmygame              gamedev  2014-01-01 02:51:13\n",
      "...                  ...                  ...                  ...\n",
      "858483   seattleshitshow            seattlewa  2017-04-27 11:07:31\n",
      "858484  peoplewhosayheck            spiderman  2017-04-30 16:36:07\n",
      "858485              vzla                  wtf  2017-04-30 15:50:07\n",
      "858486     denverbroncos                  nfl  2017-04-30 16:11:30\n",
      "858487  shitpoliticssays  politicaldiscussion  2017-04-30 15:14:05\n",
      "\n",
      "[858488 rows x 3 columns]\n",
      "Program took 7.3 seconds\n"
     ]
    }
   ],
   "source": [
    "import re\n",
    "import pandas as pd\n",
    "import time as time\n",
    "import networkx as nx\n",
    "import community as community_louvain\n",
    "from matplotlib import cm as cm\n",
    "from matplotlib import pyplot as plt\n",
    "from eventgraphs import EventGraph\n",
    "from eventgraphs.analysis import calculate_motif_distribution\n",
    "from eventgraphs.plotting import plot_barcode\n",
    "import os\n",
    "\n",
    "def temp_motifs(df):\n",
    "    print(\"Transforming timestamps...\")\n",
    "    timestamps_data = df['TIMESTAMP']\n",
    "    date_regex = '[0-9]+-[0-9]+-[0-9]+'\n",
    "    timestamps = []\n",
    "    for timestamp in timestamps_data:\n",
    "        date = re.search(date_regex, timestamp)\n",
    "        if date:\n",
    "            timestamps.append(int(date.group(0).replace('-', '')))\n",
    "    print(\"There are\", len(timestamps), \"timestamps\")\n",
    "\n",
    "    print(\"Building new DataFrame...\")\n",
    "    del df['TIMESTAMP']\n",
    "    df['time'] = timestamps\n",
    "    df = df.rename(columns={'SOURCE_SUBREDDIT': 'source', 'TARGET_SUBREDDIT': 'target'})\n",
    "    print(df)\n",
    "\n",
    "    print(\"Create event graph...\")\n",
    "    EG = EventGraph.from_pandas_eventlist(df, graph_rules='teg')\n",
    "    print(EG)\n",
    "    EG.build(verbose=True)\n",
    "    print(EG)\n",
    "    print(EG.eg_edges.head())\n",
    "    EG.calculate_edge_motifs(edge_type='type', condensed=False)\n",
    "    print(EG.eg_edges)\n",
    "\n",
    "    print(\"Plotting results...\")\n",
    "    motif_distribution = calculate_motif_distribution(EG)\n",
    "    motif_distribution.plot(kind='bar', ylim=(0, 0.5))\n",
    "    plt.show()\n",
    "\n",
    "\n",
    "if __name__ == \"__main__\":\n",
    "    start_time = time.time()\n",
    "\n",
    "    print(\"Loading in data...\")\n",
    "    body_path = os.path.abspath(\"C:\\\\Users\\\\Boran\\\\Downloads\\soc-redditHyperlinks-body.tsv\")\n",
    "    title_path = os.path.abspath(\"C:\\\\Users\\\\Boran\\\\Downloads\\soc-redditHyperlinks-title.tsv\")\n",
    "\n",
    "    \n",
    "    bodyData = pd.read_csv(body_path, sep='\\t')\n",
    "    titleData = pd.read_csv(title_path, sep='\\t')\n",
    "    df = bodyData.append(titleData, ignore_index=True)\n",
    "    del df['PROPERTIES']\n",
    "    del df['POST_ID']\n",
    "    del df['LINK_SENTIMENT']\n",
    "\n",
    "    #louvain(df)\n",
    "    # temp_motifs(df)\n",
    "    df = df.rename(columns={'SOURCE_SUBREDDIT': 'source', 'TARGET_SUBREDDIT': 'target'})\n",
    "    print(df)\n",
    "    print(\"Program took\", str(round(time.time() - start_time, 1)), \"seconds\")"
   ]
  },
  {
   "cell_type": "code",
   "execution_count": 2,
   "metadata": {},
   "outputs": [
    {
     "name": "stdout",
     "output_type": "stream",
     "text": [
      "Loading in data...\n",
      "                  source               target            TIMESTAMP\n",
      "0        leagueoflegends      teamredditteams  2013-12-31 16:39:58\n",
      "1             theredlion               soccer  2013-12-31 18:18:37\n",
      "2           inlandempire               bikela  2014-01-01 14:54:35\n",
      "3                    nfl                  cfb  2013-12-31 17:37:55\n",
      "4             playmygame              gamedev  2014-01-01 02:51:13\n",
      "...                  ...                  ...                  ...\n",
      "858483   seattleshitshow            seattlewa  2017-04-27 11:07:31\n",
      "858484  peoplewhosayheck            spiderman  2017-04-30 16:36:07\n",
      "858485              vzla                  wtf  2017-04-30 15:50:07\n",
      "858486     denverbroncos                  nfl  2017-04-30 16:11:30\n",
      "858487  shitpoliticssays  politicaldiscussion  2017-04-30 15:14:05\n",
      "\n",
      "[858488 rows x 3 columns]\n"
     ]
    }
   ],
   "source": [
    "    start_time = time.time()\n",
    "\n",
    "    print(\"Loading in data...\")\n",
    "    body_path = os.path.abspath(\"C:\\\\Users\\\\Boran\\\\Downloads\\soc-redditHyperlinks-body.tsv\")\n",
    "    title_path = os.path.abspath(\"C:\\\\Users\\\\Boran\\\\Downloads\\soc-redditHyperlinks-title.tsv\")\n",
    "\n",
    "    \n",
    "    bodyData = pd.read_csv(body_path, sep='\\t')\n",
    "    titleData = pd.read_csv(title_path, sep='\\t')\n",
    "    df = bodyData.append(titleData, ignore_index=True)\n",
    "    del df['PROPERTIES']\n",
    "    del df['POST_ID']\n",
    "    del df['LINK_SENTIMENT']\n",
    "#     print(\"Transforming timestamps...\")\n",
    "#     timestamps_data = df['TIMESTAMP']\n",
    "#     date_regex = '[0-9]+-[0-9]+-[0-9]+'\n",
    "#     timestamps = []\n",
    "#     for timestamp in timestamps_data:\n",
    "#         date = re.search(date_regex, timestamp)\n",
    "#         if date:\n",
    "#             timestamps.append(int(date.group(0).replace('-', '')))\n",
    "#     print(\"There are\", len(timestamps), \"timestamps\")\n",
    "\n",
    "#    print(\"Building new DataFrame...\")\n",
    "#    del df['TIMESTAMP']\n",
    "#    df['time'] = timestamps\n",
    "    df = df.rename(columns={'SOURCE_SUBREDDIT': 'source', 'TARGET_SUBREDDIT': 'target'})\n",
    "    print(df)\n"
   ]
  },
  {
   "cell_type": "code",
   "execution_count": 8,
   "metadata": {},
   "outputs": [],
   "source": [
    "df = df.rename(columns={'SOURCE_SUBREDDIT': 'source', 'TIMESTAMP': 'time'})\n",
    "timesorted = df.sort_values('time')"
   ]
  },
  {
   "cell_type": "code",
   "execution_count": 13,
   "metadata": {},
   "outputs": [],
   "source": [
    "node_list_lol = []\n",
    "for i in range(len(df['target'])):\n",
    "    if df['target'][i] == 'conservative':\n",
    "        node_list_lol.append(i)\n"
   ]
  },
  {
   "cell_type": "code",
   "execution_count": 14,
   "metadata": {},
   "outputs": [],
   "source": [
    "filtered_df = []\n",
    "for i in range(len(node_list_lol)):\n",
    "    j = node_list_lol[i]\n",
    "    filtered_df.append(df.iloc[[j]])"
   ]
  },
  {
   "cell_type": "code",
   "execution_count": 15,
   "metadata": {},
   "outputs": [
    {
     "data": {
      "text/html": [
       "<div>\n",
       "<style scoped>\n",
       "    .dataframe tbody tr th:only-of-type {\n",
       "        vertical-align: middle;\n",
       "    }\n",
       "\n",
       "    .dataframe tbody tr th {\n",
       "        vertical-align: top;\n",
       "    }\n",
       "\n",
       "    .dataframe thead th {\n",
       "        text-align: right;\n",
       "    }\n",
       "</style>\n",
       "<table border=\"1\" class=\"dataframe\">\n",
       "  <thead>\n",
       "    <tr style=\"text-align: right;\">\n",
       "      <th></th>\n",
       "      <th>source</th>\n",
       "      <th>target</th>\n",
       "      <th>time</th>\n",
       "    </tr>\n",
       "  </thead>\n",
       "  <tbody>\n",
       "    <tr>\n",
       "      <th>360</th>\n",
       "      <td>metaconservative</td>\n",
       "      <td>conservative</td>\n",
       "      <td>2014-01-04 14:50:38</td>\n",
       "    </tr>\n",
       "  </tbody>\n",
       "</table>\n",
       "</div>"
      ],
      "text/plain": [
       "               source        target                 time\n",
       "360  metaconservative  conservative  2014-01-04 14:50:38"
      ]
     },
     "execution_count": 15,
     "metadata": {},
     "output_type": "execute_result"
    }
   ],
   "source": [
    "filtered_df[0]"
   ]
  },
  {
   "cell_type": "code",
   "execution_count": 200,
   "metadata": {},
   "outputs": [],
   "source": [
    "filtered_df = pd.DataFrame([])\n",
    "for i in range(len(node_list_lol)):\n",
    "    j = node_list_lol[i]\n",
    "    filtered_df.append(df.iloc[[j]])"
   ]
  },
  {
   "cell_type": "code",
   "execution_count": 201,
   "metadata": {},
   "outputs": [],
   "source": [
    "filtered_df = pd.DataFrame(df, index = node_list_lol)"
   ]
  },
  {
   "cell_type": "code",
   "execution_count": 202,
   "metadata": {},
   "outputs": [
    {
     "data": {
      "text/html": [
       "<div>\n",
       "<style scoped>\n",
       "    .dataframe tbody tr th:only-of-type {\n",
       "        vertical-align: middle;\n",
       "    }\n",
       "\n",
       "    .dataframe tbody tr th {\n",
       "        vertical-align: top;\n",
       "    }\n",
       "\n",
       "    .dataframe thead th {\n",
       "        text-align: right;\n",
       "    }\n",
       "</style>\n",
       "<table border=\"1\" class=\"dataframe\">\n",
       "  <thead>\n",
       "    <tr style=\"text-align: right;\">\n",
       "      <th></th>\n",
       "      <th>source</th>\n",
       "      <th>target</th>\n",
       "      <th>time</th>\n",
       "    </tr>\n",
       "  </thead>\n",
       "  <tbody>\n",
       "    <tr>\n",
       "      <th>360</th>\n",
       "      <td>metaconservative</td>\n",
       "      <td>conservative</td>\n",
       "      <td>2014-01-04 14:50:38</td>\n",
       "    </tr>\n",
       "    <tr>\n",
       "      <th>362</th>\n",
       "      <td>libertarian</td>\n",
       "      <td>conservative</td>\n",
       "      <td>2014-01-04 14:41:05</td>\n",
       "    </tr>\n",
       "    <tr>\n",
       "      <th>2135</th>\n",
       "      <td>metaconservative</td>\n",
       "      <td>conservative</td>\n",
       "      <td>2014-01-22 19:26:32</td>\n",
       "    </tr>\n",
       "    <tr>\n",
       "      <th>3907</th>\n",
       "      <td>circlejerkcopypasta</td>\n",
       "      <td>conservative</td>\n",
       "      <td>2014-01-28 14:50:00</td>\n",
       "    </tr>\n",
       "    <tr>\n",
       "      <th>4708</th>\n",
       "      <td>antisrs</td>\n",
       "      <td>conservative</td>\n",
       "      <td>2014-02-01 19:06:43</td>\n",
       "    </tr>\n",
       "    <tr>\n",
       "      <th>...</th>\n",
       "      <td>...</td>\n",
       "      <td>...</td>\n",
       "      <td>...</td>\n",
       "    </tr>\n",
       "    <tr>\n",
       "      <th>856034</th>\n",
       "      <td>enoughtrumpspam</td>\n",
       "      <td>conservative</td>\n",
       "      <td>2017-04-27 06:59:34</td>\n",
       "    </tr>\n",
       "    <tr>\n",
       "      <th>856166</th>\n",
       "      <td>shitpost</td>\n",
       "      <td>conservative</td>\n",
       "      <td>2017-04-27 09:49:25</td>\n",
       "    </tr>\n",
       "    <tr>\n",
       "      <th>857663</th>\n",
       "      <td>enoughlibertarianspam</td>\n",
       "      <td>conservative</td>\n",
       "      <td>2017-04-29 11:47:34</td>\n",
       "    </tr>\n",
       "    <tr>\n",
       "      <th>858206</th>\n",
       "      <td>shitliberalssay</td>\n",
       "      <td>conservative</td>\n",
       "      <td>2017-04-30 08:57:21</td>\n",
       "    </tr>\n",
       "    <tr>\n",
       "      <th>858222</th>\n",
       "      <td>banned</td>\n",
       "      <td>conservative</td>\n",
       "      <td>2017-04-30 09:48:23</td>\n",
       "    </tr>\n",
       "  </tbody>\n",
       "</table>\n",
       "<p>1089 rows × 3 columns</p>\n",
       "</div>"
      ],
      "text/plain": [
       "                       source        target                 time\n",
       "360          metaconservative  conservative  2014-01-04 14:50:38\n",
       "362               libertarian  conservative  2014-01-04 14:41:05\n",
       "2135         metaconservative  conservative  2014-01-22 19:26:32\n",
       "3907      circlejerkcopypasta  conservative  2014-01-28 14:50:00\n",
       "4708                  antisrs  conservative  2014-02-01 19:06:43\n",
       "...                       ...           ...                  ...\n",
       "856034        enoughtrumpspam  conservative  2017-04-27 06:59:34\n",
       "856166               shitpost  conservative  2017-04-27 09:49:25\n",
       "857663  enoughlibertarianspam  conservative  2017-04-29 11:47:34\n",
       "858206        shitliberalssay  conservative  2017-04-30 08:57:21\n",
       "858222                 banned  conservative  2017-04-30 09:48:23\n",
       "\n",
       "[1089 rows x 3 columns]"
      ]
     },
     "execution_count": 202,
     "metadata": {},
     "output_type": "execute_result"
    }
   ],
   "source": [
    "filtered_df"
   ]
  },
  {
   "cell_type": "code",
   "execution_count": 203,
   "metadata": {},
   "outputs": [],
   "source": [
    "filtered_newindex_df = filtered_df.reset_index(drop=True)"
   ]
  },
  {
   "cell_type": "code",
   "execution_count": 204,
   "metadata": {},
   "outputs": [],
   "source": [
    "date_regex = '[0-9]+-[0-9]+-[0-9]+'\n",
    "timestamps_data = filtered_newindex_df['time']\n",
    "timestamps_final = []\n",
    "for timestamp in timestamps_data:\n",
    "    date = re.search(date_regex, timestamp)\n",
    "    timestamps_final.append(date.group(0))\n",
    "filtered_newindex_df['time'] = timestamps_final"
   ]
  },
  {
   "cell_type": "code",
   "execution_count": 205,
   "metadata": {},
   "outputs": [],
   "source": [
    "filtered_newindex_df[\"time\"] = filtered_newindex_df[\"time\"].astype(\"datetime64\")\n"
   ]
  },
  {
   "cell_type": "code",
   "execution_count": 206,
   "metadata": {},
   "outputs": [
    {
     "data": {
      "text/html": [
       "<div>\n",
       "<style scoped>\n",
       "    .dataframe tbody tr th:only-of-type {\n",
       "        vertical-align: middle;\n",
       "    }\n",
       "\n",
       "    .dataframe tbody tr th {\n",
       "        vertical-align: top;\n",
       "    }\n",
       "\n",
       "    .dataframe thead th {\n",
       "        text-align: right;\n",
       "    }\n",
       "</style>\n",
       "<table border=\"1\" class=\"dataframe\">\n",
       "  <thead>\n",
       "    <tr style=\"text-align: right;\">\n",
       "      <th></th>\n",
       "      <th>source</th>\n",
       "      <th>target</th>\n",
       "      <th>time</th>\n",
       "    </tr>\n",
       "  </thead>\n",
       "  <tbody>\n",
       "    <tr>\n",
       "      <th>0</th>\n",
       "      <td>metaconservative</td>\n",
       "      <td>conservative</td>\n",
       "      <td>2014-01-04</td>\n",
       "    </tr>\n",
       "    <tr>\n",
       "      <th>1</th>\n",
       "      <td>libertarian</td>\n",
       "      <td>conservative</td>\n",
       "      <td>2014-01-04</td>\n",
       "    </tr>\n",
       "    <tr>\n",
       "      <th>2</th>\n",
       "      <td>metaconservative</td>\n",
       "      <td>conservative</td>\n",
       "      <td>2014-01-22</td>\n",
       "    </tr>\n",
       "    <tr>\n",
       "      <th>3</th>\n",
       "      <td>circlejerkcopypasta</td>\n",
       "      <td>conservative</td>\n",
       "      <td>2014-01-28</td>\n",
       "    </tr>\n",
       "    <tr>\n",
       "      <th>4</th>\n",
       "      <td>antisrs</td>\n",
       "      <td>conservative</td>\n",
       "      <td>2014-02-01</td>\n",
       "    </tr>\n",
       "    <tr>\n",
       "      <th>...</th>\n",
       "      <td>...</td>\n",
       "      <td>...</td>\n",
       "      <td>...</td>\n",
       "    </tr>\n",
       "    <tr>\n",
       "      <th>1084</th>\n",
       "      <td>enoughtrumpspam</td>\n",
       "      <td>conservative</td>\n",
       "      <td>2017-04-27</td>\n",
       "    </tr>\n",
       "    <tr>\n",
       "      <th>1085</th>\n",
       "      <td>shitpost</td>\n",
       "      <td>conservative</td>\n",
       "      <td>2017-04-27</td>\n",
       "    </tr>\n",
       "    <tr>\n",
       "      <th>1086</th>\n",
       "      <td>enoughlibertarianspam</td>\n",
       "      <td>conservative</td>\n",
       "      <td>2017-04-29</td>\n",
       "    </tr>\n",
       "    <tr>\n",
       "      <th>1087</th>\n",
       "      <td>shitliberalssay</td>\n",
       "      <td>conservative</td>\n",
       "      <td>2017-04-30</td>\n",
       "    </tr>\n",
       "    <tr>\n",
       "      <th>1088</th>\n",
       "      <td>banned</td>\n",
       "      <td>conservative</td>\n",
       "      <td>2017-04-30</td>\n",
       "    </tr>\n",
       "  </tbody>\n",
       "</table>\n",
       "<p>1089 rows × 3 columns</p>\n",
       "</div>"
      ],
      "text/plain": [
       "                     source        target       time\n",
       "0          metaconservative  conservative 2014-01-04\n",
       "1               libertarian  conservative 2014-01-04\n",
       "2          metaconservative  conservative 2014-01-22\n",
       "3       circlejerkcopypasta  conservative 2014-01-28\n",
       "4                   antisrs  conservative 2014-02-01\n",
       "...                     ...           ...        ...\n",
       "1084        enoughtrumpspam  conservative 2017-04-27\n",
       "1085               shitpost  conservative 2017-04-27\n",
       "1086  enoughlibertarianspam  conservative 2017-04-29\n",
       "1087        shitliberalssay  conservative 2017-04-30\n",
       "1088                 banned  conservative 2017-04-30\n",
       "\n",
       "[1089 rows x 3 columns]"
      ]
     },
     "execution_count": 206,
     "metadata": {},
     "output_type": "execute_result"
    }
   ],
   "source": [
    "filtered_newindex_df"
   ]
  },
  {
   "cell_type": "code",
   "execution_count": 195,
   "metadata": {},
   "outputs": [],
   "source": [
    "month = np.zeros(len(filtered_newindex_df))\n",
    "day = np.zeros(len(filtered_newindex_df))\n",
    "year = np.zeros(len(filtered_newindex_df))\n",
    "for i in range (len(filtered_newindex_df)):\n",
    "    month[i] = filtered_newindex_df[\"time\"].dt.month[i]\n",
    "    day[i] = filtered_newindex_df[\"time\"].dt.day[i]\n",
    "    year[i] = filtered_newindex_df[\"time\"].dt.year[i]"
   ]
  },
  {
   "cell_type": "code",
   "execution_count": 26,
   "metadata": {},
   "outputs": [
    {
     "data": {
      "image/png": "[encoded data removed]",
      "text/plain": [
       "<Figure size 432x288 with 1 Axes>"
      ]
     },
     "metadata": {
      "needs_background": "light"
     },
     "output_type": "display_data"
    }
   ],
   "source": [
    "fig, ax = plt.subplots()\n",
    "binwidth = 50\n",
    "filtered_newindex_df[\"time\"].astype(np.int64).plot.hist(ax=ax, bins = 50)\n",
    "labels = ax.get_xticks().tolist()\n",
    "labels = pd.to_datetime(labels)\n",
    "ax.set_xticklabels(labels, rotation=90)\n",
    "fig.suptitle('LoL source', fontsize=20)\n",
    "plt.show()"
   ]
  },
  {
   "cell_type": "code",
   "execution_count": 46,
   "metadata": {},
   "outputs": [
    {
     "data": {
      "image/png": "[encoded data removed]",
      "text/plain": [
       "<Figure size 432x288 with 1 Axes>"
      ]
     },
     "metadata": {
      "needs_background": "light"
     },
     "output_type": "display_data"
    }
   ],
   "source": [
    "fig, ax = plt.subplots()\n",
    "binwidth = 50\n",
    "filtered_newindex_df[\"time\"].astype(np.int64).plot.hist(ax=ax, bins = 50)\n",
    "labels = ax.get_xticks().tolist()\n",
    "labels = pd.to_datetime(labels)\n",
    "ax.set_xticklabels(labels, rotation=90)\n",
    "fig.suptitle('LoL target', fontsize=20)\n",
    "plt.show()"
   ]
  },
  {
   "cell_type": "code",
   "execution_count": 64,
   "metadata": {},
   "outputs": [
    {
     "data": {
      "image/png": "[encoded data removed]",
      "text/plain": [
       "<Figure size 432x288 with 1 Axes>"
      ]
     },
     "metadata": {
      "needs_background": "light"
     },
     "output_type": "display_data"
    }
   ],
   "source": [
    "fig, ax = plt.subplots()\n",
    "binwidth = 50\n",
    "filtered_newindex_df[\"time\"].astype(np.int64).plot.hist(ax=ax, bins = 50)\n",
    "labels = ax.get_xticks().tolist()\n",
    "labels = pd.to_datetime(labels)\n",
    "ax.set_xticklabels(labels, rotation=90)\n",
    "fig.suptitle('Gaming target', fontsize=20)\n",
    "plt.show()"
   ]
  },
  {
   "cell_type": "code",
   "execution_count": 81,
   "metadata": {},
   "outputs": [
    {
     "data": {
      "image/png": "[encoded data removed]",
      "text/plain": [
       "<Figure size 432x288 with 1 Axes>"
      ]
     },
     "metadata": {
      "needs_background": "light"
     },
     "output_type": "display_data"
    }
   ],
   "source": [
    "fig, ax = plt.subplots()\n",
    "binwidth = 50\n",
    "filtered_newindex_df[\"time\"].astype(np.int64).plot.hist(ax=ax, bins = 50)\n",
    "labels = ax.get_xticks().tolist()\n",
    "labels = pd.to_datetime(labels)\n",
    "ax.set_xticklabels(labels, rotation=90)\n",
    "fig.suptitle('Gaming source', fontsize=20)\n",
    "plt.show()"
   ]
  },
  {
   "cell_type": "code",
   "execution_count": 196,
   "metadata": {},
   "outputs": [
    {
     "data": {
      "image/png": "[encoded data removed]",
      "text/plain": [
       "<Figure size 432x288 with 1 Axes>"
      ]
     },
     "metadata": {
      "needs_background": "light"
     },
     "output_type": "display_data"
    }
   ],
   "source": [
    "fig, ax = plt.subplots()\n",
    "binwidth = 50\n",
    "filtered_newindex_df[\"time\"].astype(np.int64).plot.hist(ax=ax, bins = 50)\n",
    "labels = ax.get_xticks().tolist()\n",
    "labels = pd.to_datetime(labels)\n",
    "ax.set_xticklabels(labels, rotation=90)\n",
    "fig.suptitle('conservative source', fontsize=20)\n",
    "plt.show()"
   ]
  },
  {
   "cell_type": "code",
   "execution_count": 207,
   "metadata": {},
   "outputs": [
    {
     "data": {
      "image/png": "[encoded data removed]",
      "text/plain": [
       "<Figure size 432x288 with 1 Axes>"
      ]
     },
     "metadata": {
      "needs_background": "light"
     },
     "output_type": "display_data"
    }
   ],
   "source": [
    "fig, ax = plt.subplots()\n",
    "binwidth = 50\n",
    "filtered_newindex_df[\"time\"].astype(np.int64).plot.hist(ax=ax, bins = 50)\n",
    "labels = ax.get_xticks().tolist()\n",
    "labels = pd.to_datetime(labels)\n",
    "ax.set_xticklabels(labels, rotation=90)\n",
    "fig.suptitle('conservative target', fontsize=20)\n",
    "plt.show()"
   ]
  },
  {
   "cell_type": "code",
   "execution_count": null,
   "metadata": {},
   "outputs": [],
   "source": []
  }
 ],
 "metadata": {
  "kernelspec": {
   "display_name": "Python 3",
   "language": "python",
   "name": "python3"
  },
  "language_info": {
   "codemirror_mode": {
    "name": "ipython",
    "version": 3
   },
   "file_extension": ".py",
   "mimetype": "text/x-python",
   "name": "python",
   "nbconvert_exporter": "python",
   "pygments_lexer": "ipython3",
   "version": "3.8.3"
  }
 },
 "nbformat": 4,
 "nbformat_minor": 4
}
