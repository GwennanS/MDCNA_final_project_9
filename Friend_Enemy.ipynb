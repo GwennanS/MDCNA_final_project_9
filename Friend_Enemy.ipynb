{
 "cells": [
  {
   "cell_type": "code",
   "execution_count": 1,
   "metadata": {
    "execution": {
     "iopub.execute_input": "2021-04-13T14:24:46.623991Z",
     "iopub.status.busy": "2021-04-13T14:24:46.623991Z",
     "iopub.status.idle": "2021-04-13T14:25:29.283107Z",
     "shell.execute_reply": "2021-04-13T14:25:29.281108Z",
     "shell.execute_reply.started": "2021-04-13T14:24:46.623991Z"
    }
   },
   "outputs": [],
   "source": [
    "import networkx as nx\n",
    "import pandas as pd\n",
    "import numpy as np \n",
    "import matplotlib.pyplot as plt\n",
    "import math\n",
    "import scipy\n",
    "import matplotlib.pyplot as plt \n",
    "import random"
   ]
  },
  {
   "cell_type": "code",
   "execution_count": 2,
   "metadata": {
    "execution": {
     "iopub.execute_input": "2021-04-13T14:25:29.291112Z",
     "iopub.status.busy": "2021-04-13T14:25:29.290107Z",
     "iopub.status.idle": "2021-04-13T14:26:07.653654Z",
     "shell.execute_reply": "2021-04-13T14:26:07.646694Z",
     "shell.execute_reply.started": "2021-04-13T14:25:29.291112Z"
    }
   },
   "outputs": [],
   "source": [
    "bodyData = pd.read_csv(\"soc-redditHyperlinks-body.tsv\", sep='\\t')\n",
    "titleData = pd.read_csv(\"soc-redditHyperlinks-title.tsv\", sep='\\t')\n",
    "df = bodyData.append(titleData, ignore_index=True)\n",
    "del df['PROPERTIES']"
   ]
  },
  {
   "cell_type": "code",
   "execution_count": 3,
   "metadata": {
    "execution": {
     "iopub.execute_input": "2021-04-13T14:26:07.666643Z",
     "iopub.status.busy": "2021-04-13T14:26:07.664642Z",
     "iopub.status.idle": "2021-04-13T14:26:09.813184Z",
     "shell.execute_reply": "2021-04-13T14:26:09.809233Z",
     "shell.execute_reply.started": "2021-04-13T14:26:07.666643Z"
    }
   },
   "outputs": [],
   "source": [
    "grouped_df =  df[['SOURCE_SUBREDDIT','TARGET_SUBREDDIT','LINK_SENTIMENT']]\n",
    "df2 = grouped_df.groupby(\n",
    "     ['SOURCE_SUBREDDIT','TARGET_SUBREDDIT']\n",
    " ).agg(\n",
    "     SENTIMENT_SUM = ('LINK_SENTIMENT','sum')\n",
    " ).reset_index()"
   ]
  },
  {
   "cell_type": "code",
   "execution_count": 4,
   "metadata": {
    "execution": {
     "iopub.execute_input": "2021-04-13T14:26:09.820180Z",
     "iopub.status.busy": "2021-04-13T14:26:09.819180Z",
     "iopub.status.idle": "2021-04-13T14:26:10.081640Z",
     "shell.execute_reply": "2021-04-13T14:26:10.079746Z",
     "shell.execute_reply.started": "2021-04-13T14:26:09.820180Z"
    }
   },
   "outputs": [],
   "source": [
    "df2['SENTIMENT_SUM_ABS'] = abs(df2['SENTIMENT_SUM'])\n",
    "df2 = df2.sort_values('SENTIMENT_SUM_ABS',ascending=False).reset_index(drop=True)"
   ]
  },
  {
   "cell_type": "code",
   "execution_count": 5,
   "metadata": {
    "execution": {
     "iopub.execute_input": "2021-04-13T14:26:10.084646Z",
     "iopub.status.busy": "2021-04-13T14:26:10.083647Z",
     "iopub.status.idle": "2021-04-13T14:26:10.160640Z",
     "shell.execute_reply": "2021-04-13T14:26:10.158683Z",
     "shell.execute_reply.started": "2021-04-13T14:26:10.084646Z"
    }
   },
   "outputs": [
    {
     "data": {
      "text/html": [
       "<div>\n",
       "<style scoped>\n",
       "    .dataframe tbody tr th:only-of-type {\n",
       "        vertical-align: middle;\n",
       "    }\n",
       "\n",
       "    .dataframe tbody tr th {\n",
       "        vertical-align: top;\n",
       "    }\n",
       "\n",
       "    .dataframe thead th {\n",
       "        text-align: right;\n",
       "    }\n",
       "</style>\n",
       "<table border=\"1\" class=\"dataframe\">\n",
       "  <thead>\n",
       "    <tr style=\"text-align: right;\">\n",
       "      <th></th>\n",
       "      <th>SOURCE_SUBREDDIT</th>\n",
       "      <th>TARGET_SUBREDDIT</th>\n",
       "      <th>SENTIMENT_SUM</th>\n",
       "      <th>SENTIMENT_SUM_ABS</th>\n",
       "    </tr>\n",
       "  </thead>\n",
       "  <tbody>\n",
       "    <tr>\n",
       "      <th>0</th>\n",
       "      <td>trendingsubreddits</td>\n",
       "      <td>changelog</td>\n",
       "      <td>548</td>\n",
       "      <td>548</td>\n",
       "    </tr>\n",
       "    <tr>\n",
       "      <th>1</th>\n",
       "      <td>moronicmondayandroid</td>\n",
       "      <td>android</td>\n",
       "      <td>478</td>\n",
       "      <td>478</td>\n",
       "    </tr>\n",
       "    <tr>\n",
       "      <th>2</th>\n",
       "      <td>goodshibe</td>\n",
       "      <td>dogecoin</td>\n",
       "      <td>299</td>\n",
       "      <td>299</td>\n",
       "    </tr>\n",
       "    <tr>\n",
       "      <th>3</th>\n",
       "      <td>nightlypick</td>\n",
       "      <td>hockey</td>\n",
       "      <td>296</td>\n",
       "      <td>296</td>\n",
       "    </tr>\n",
       "    <tr>\n",
       "      <th>4</th>\n",
       "      <td>titlegore</td>\n",
       "      <td>todayilearned</td>\n",
       "      <td>279</td>\n",
       "      <td>279</td>\n",
       "    </tr>\n",
       "  </tbody>\n",
       "</table>\n",
       "</div>"
      ],
      "text/plain": [
       "       SOURCE_SUBREDDIT TARGET_SUBREDDIT  SENTIMENT_SUM  SENTIMENT_SUM_ABS\n",
       "0    trendingsubreddits        changelog            548                548\n",
       "1  moronicmondayandroid          android            478                478\n",
       "2             goodshibe         dogecoin            299                299\n",
       "3           nightlypick           hockey            296                296\n",
       "4             titlegore    todayilearned            279                279"
      ]
     },
     "execution_count": 5,
     "metadata": {},
     "output_type": "execute_result"
    }
   ],
   "source": [
    "df2.head()"
   ]
  },
  {
   "cell_type": "code",
   "execution_count": 6,
   "metadata": {
    "execution": {
     "iopub.execute_input": "2021-04-13T14:26:10.163644Z",
     "iopub.status.busy": "2021-04-13T14:26:10.162644Z",
     "iopub.status.idle": "2021-04-13T14:26:11.566170Z",
     "shell.execute_reply": "2021-04-13T14:26:11.561438Z",
     "shell.execute_reply.started": "2021-04-13T14:26:10.163644Z"
    }
   },
   "outputs": [],
   "source": [
    "positive_sum = df2.loc[df2['SENTIMENT_SUM']>5]"
   ]
  },
  {
   "cell_type": "code",
   "execution_count": 7,
   "metadata": {
    "execution": {
     "iopub.execute_input": "2021-04-13T14:26:11.572168Z",
     "iopub.status.busy": "2021-04-13T14:26:11.571170Z",
     "iopub.status.idle": "2021-04-13T14:26:11.630170Z",
     "shell.execute_reply": "2021-04-13T14:26:11.624167Z",
     "shell.execute_reply.started": "2021-04-13T14:26:11.572168Z"
    }
   },
   "outputs": [
    {
     "data": {
      "text/html": [
       "<div>\n",
       "<style scoped>\n",
       "    .dataframe tbody tr th:only-of-type {\n",
       "        vertical-align: middle;\n",
       "    }\n",
       "\n",
       "    .dataframe tbody tr th {\n",
       "        vertical-align: top;\n",
       "    }\n",
       "\n",
       "    .dataframe thead th {\n",
       "        text-align: right;\n",
       "    }\n",
       "</style>\n",
       "<table border=\"1\" class=\"dataframe\">\n",
       "  <thead>\n",
       "    <tr style=\"text-align: right;\">\n",
       "      <th></th>\n",
       "      <th>SOURCE_SUBREDDIT</th>\n",
       "      <th>TARGET_SUBREDDIT</th>\n",
       "      <th>SENTIMENT_SUM</th>\n",
       "      <th>SENTIMENT_SUM_ABS</th>\n",
       "    </tr>\n",
       "  </thead>\n",
       "  <tbody>\n",
       "    <tr>\n",
       "      <th>0</th>\n",
       "      <td>trendingsubreddits</td>\n",
       "      <td>changelog</td>\n",
       "      <td>548</td>\n",
       "      <td>548</td>\n",
       "    </tr>\n",
       "    <tr>\n",
       "      <th>1</th>\n",
       "      <td>moronicmondayandroid</td>\n",
       "      <td>android</td>\n",
       "      <td>478</td>\n",
       "      <td>478</td>\n",
       "    </tr>\n",
       "    <tr>\n",
       "      <th>2</th>\n",
       "      <td>goodshibe</td>\n",
       "      <td>dogecoin</td>\n",
       "      <td>299</td>\n",
       "      <td>299</td>\n",
       "    </tr>\n",
       "    <tr>\n",
       "      <th>3</th>\n",
       "      <td>nightlypick</td>\n",
       "      <td>hockey</td>\n",
       "      <td>296</td>\n",
       "      <td>296</td>\n",
       "    </tr>\n",
       "    <tr>\n",
       "      <th>4</th>\n",
       "      <td>titlegore</td>\n",
       "      <td>todayilearned</td>\n",
       "      <td>279</td>\n",
       "      <td>279</td>\n",
       "    </tr>\n",
       "  </tbody>\n",
       "</table>\n",
       "</div>"
      ],
      "text/plain": [
       "       SOURCE_SUBREDDIT TARGET_SUBREDDIT  SENTIMENT_SUM  SENTIMENT_SUM_ABS\n",
       "0    trendingsubreddits        changelog            548                548\n",
       "1  moronicmondayandroid          android            478                478\n",
       "2             goodshibe         dogecoin            299                299\n",
       "3           nightlypick           hockey            296                296\n",
       "4             titlegore    todayilearned            279                279"
      ]
     },
     "execution_count": 7,
     "metadata": {},
     "output_type": "execute_result"
    }
   ],
   "source": [
    "positive_sum.head()"
   ]
  },
  {
   "cell_type": "code",
   "execution_count": 8,
   "metadata": {
    "execution": {
     "iopub.execute_input": "2021-04-13T14:26:11.652167Z",
     "iopub.status.busy": "2021-04-13T14:26:11.646167Z",
     "iopub.status.idle": "2021-04-13T14:26:11.848159Z",
     "shell.execute_reply": "2021-04-13T14:26:11.847154Z",
     "shell.execute_reply.started": "2021-04-13T14:26:11.651175Z"
    }
   },
   "outputs": [
    {
     "data": {
      "text/plain": [
       "SOURCE_SUBREDDIT     howhumanbeingswork\n",
       "TARGET_SUBREDDIT             psychology\n",
       "SENTIMENT_SUM                        25\n",
       "SENTIMENT_SUM_ABS                    25\n",
       "Name: 2701, dtype: object"
      ]
     },
     "execution_count": 8,
     "metadata": {},
     "output_type": "execute_result"
    }
   ],
   "source": [
    "positive_sum.iloc[2700]"
   ]
  },
  {
   "cell_type": "code",
   "execution_count": 9,
   "metadata": {
    "execution": {
     "iopub.execute_input": "2021-04-13T14:26:11.853158Z",
     "iopub.status.busy": "2021-04-13T14:26:11.852156Z",
     "iopub.status.idle": "2021-04-13T14:26:13.759462Z",
     "shell.execute_reply": "2021-04-13T14:26:13.758459Z",
     "shell.execute_reply.started": "2021-04-13T14:26:11.853158Z"
    }
   },
   "outputs": [],
   "source": [
    "friend_list = []\n",
    "for idx, row in positive_sum.iterrows():\n",
    "    friend = (row['SOURCE_SUBREDDIT'],row['TARGET_SUBREDDIT'])\n",
    "    friend_list.append(friend)"
   ]
  },
  {
   "cell_type": "code",
   "execution_count": 10,
   "metadata": {
    "execution": {
     "iopub.execute_input": "2021-04-13T14:26:13.763459Z",
     "iopub.status.busy": "2021-04-13T14:26:13.762460Z",
     "iopub.status.idle": "2021-04-13T14:26:13.775458Z",
     "shell.execute_reply": "2021-04-13T14:26:13.774461Z",
     "shell.execute_reply.started": "2021-04-13T14:26:13.763459Z"
    }
   },
   "outputs": [
    {
     "data": {
      "text/plain": [
       "18781"
      ]
     },
     "execution_count": 10,
     "metadata": {},
     "output_type": "execute_result"
    }
   ],
   "source": [
    "len(friend_list)"
   ]
  },
  {
   "cell_type": "code",
   "execution_count": 16,
   "metadata": {
    "execution": {
     "iopub.execute_input": "2021-04-13T14:27:44.750372Z",
     "iopub.status.busy": "2021-04-13T14:27:44.749370Z",
     "iopub.status.idle": "2021-04-13T14:27:44.819369Z",
     "shell.execute_reply": "2021-04-13T14:27:44.818398Z",
     "shell.execute_reply.started": "2021-04-13T14:27:44.750372Z"
    }
   },
   "outputs": [
    {
     "data": {
      "text/html": [
       "<div>\n",
       "<style scoped>\n",
       "    .dataframe tbody tr th:only-of-type {\n",
       "        vertical-align: middle;\n",
       "    }\n",
       "\n",
       "    .dataframe tbody tr th {\n",
       "        vertical-align: top;\n",
       "    }\n",
       "\n",
       "    .dataframe thead th {\n",
       "        text-align: right;\n",
       "    }\n",
       "</style>\n",
       "<table border=\"1\" class=\"dataframe\">\n",
       "  <thead>\n",
       "    <tr style=\"text-align: right;\">\n",
       "      <th></th>\n",
       "      <th>SOURCE_SUBREDDIT</th>\n",
       "      <th>TARGET_SUBREDDIT</th>\n",
       "      <th>SENTIMENT_SUM</th>\n",
       "      <th>SENTIMENT_SUM_ABS</th>\n",
       "    </tr>\n",
       "  </thead>\n",
       "  <tbody>\n",
       "    <tr>\n",
       "      <th>2672</th>\n",
       "      <td>hearthstone</td>\n",
       "      <td>hearthstonecirclejerk</td>\n",
       "      <td>-25</td>\n",
       "      <td>25</td>\n",
       "    </tr>\n",
       "    <tr>\n",
       "      <th>3240</th>\n",
       "      <td>angryblackladies</td>\n",
       "      <td>blackladies</td>\n",
       "      <td>-22</td>\n",
       "      <td>22</td>\n",
       "    </tr>\n",
       "    <tr>\n",
       "      <th>5656</th>\n",
       "      <td>drama</td>\n",
       "      <td>news</td>\n",
       "      <td>-15</td>\n",
       "      <td>15</td>\n",
       "    </tr>\n",
       "    <tr>\n",
       "      <th>6522</th>\n",
       "      <td>publichealthwatch</td>\n",
       "      <td>abortion</td>\n",
       "      <td>-13</td>\n",
       "      <td>13</td>\n",
       "    </tr>\n",
       "    <tr>\n",
       "      <th>6661</th>\n",
       "      <td>drama</td>\n",
       "      <td>videos</td>\n",
       "      <td>-13</td>\n",
       "      <td>13</td>\n",
       "    </tr>\n",
       "    <tr>\n",
       "      <th>...</th>\n",
       "      <td>...</td>\n",
       "      <td>...</td>\n",
       "      <td>...</td>\n",
       "      <td>...</td>\n",
       "    </tr>\n",
       "    <tr>\n",
       "      <th>45398</th>\n",
       "      <td>atheism</td>\n",
       "      <td>debateachristian</td>\n",
       "      <td>-3</td>\n",
       "      <td>3</td>\n",
       "    </tr>\n",
       "    <tr>\n",
       "      <th>45446</th>\n",
       "      <td>publichealthwatch</td>\n",
       "      <td>rapecounseling</td>\n",
       "      <td>-3</td>\n",
       "      <td>3</td>\n",
       "    </tr>\n",
       "    <tr>\n",
       "      <th>45464</th>\n",
       "      <td>publichealthwatch</td>\n",
       "      <td>rape</td>\n",
       "      <td>-3</td>\n",
       "      <td>3</td>\n",
       "    </tr>\n",
       "    <tr>\n",
       "      <th>45781</th>\n",
       "      <td>elitistwatch</td>\n",
       "      <td>metaljerk</td>\n",
       "      <td>-3</td>\n",
       "      <td>3</td>\n",
       "    </tr>\n",
       "    <tr>\n",
       "      <th>46002</th>\n",
       "      <td>publichealthwatch</td>\n",
       "      <td>adultery</td>\n",
       "      <td>-3</td>\n",
       "      <td>3</td>\n",
       "    </tr>\n",
       "  </tbody>\n",
       "</table>\n",
       "<p>284 rows × 4 columns</p>\n",
       "</div>"
      ],
      "text/plain": [
       "        SOURCE_SUBREDDIT       TARGET_SUBREDDIT  SENTIMENT_SUM  \\\n",
       "2672         hearthstone  hearthstonecirclejerk            -25   \n",
       "3240    angryblackladies            blackladies            -22   \n",
       "5656               drama                   news            -15   \n",
       "6522   publichealthwatch               abortion            -13   \n",
       "6661               drama                 videos            -13   \n",
       "...                  ...                    ...            ...   \n",
       "45398            atheism       debateachristian             -3   \n",
       "45446  publichealthwatch         rapecounseling             -3   \n",
       "45464  publichealthwatch                   rape             -3   \n",
       "45781       elitistwatch              metaljerk             -3   \n",
       "46002  publichealthwatch               adultery             -3   \n",
       "\n",
       "       SENTIMENT_SUM_ABS  \n",
       "2672                  25  \n",
       "3240                  22  \n",
       "5656                  15  \n",
       "6522                  13  \n",
       "6661                  13  \n",
       "...                  ...  \n",
       "45398                  3  \n",
       "45446                  3  \n",
       "45464                  3  \n",
       "45781                  3  \n",
       "46002                  3  \n",
       "\n",
       "[284 rows x 4 columns]"
      ]
     },
     "execution_count": 16,
     "metadata": {},
     "output_type": "execute_result"
    }
   ],
   "source": [
    "negative_sum = df2.loc[df2['SENTIMENT_SUM']<-2]\n",
    "negative_sum"
   ]
  },
  {
   "cell_type": "code",
   "execution_count": 12,
   "metadata": {
    "execution": {
     "iopub.execute_input": "2021-04-13T14:26:14.132374Z",
     "iopub.status.busy": "2021-04-13T14:26:14.131376Z",
     "iopub.status.idle": "2021-04-13T14:26:14.501296Z",
     "shell.execute_reply": "2021-04-13T14:26:14.500295Z",
     "shell.execute_reply.started": "2021-04-13T14:26:14.131376Z"
    }
   },
   "outputs": [],
   "source": [
    "enemy_list = []\n",
    "for idx, row in negative_sum.iterrows():\n",
    "    enemy = (row['SOURCE_SUBREDDIT'],row['TARGET_SUBREDDIT'])\n",
    "    enemy_list.append(enemy)"
   ]
  },
  {
   "cell_type": "code",
   "execution_count": 13,
   "metadata": {
    "execution": {
     "iopub.execute_input": "2021-04-13T14:26:14.503297Z",
     "iopub.status.busy": "2021-04-13T14:26:14.503297Z",
     "iopub.status.idle": "2021-04-13T14:26:15.053298Z",
     "shell.execute_reply": "2021-04-13T14:26:15.051296Z",
     "shell.execute_reply.started": "2021-04-13T14:26:14.503297Z"
    }
   },
   "outputs": [
    {
     "data": {
      "text/plain": [
       "284"
      ]
     },
     "execution_count": 13,
     "metadata": {},
     "output_type": "execute_result"
    }
   ],
   "source": [
    "len(enemy_list)"
   ]
  },
  {
   "cell_type": "code",
   "execution_count": 14,
   "metadata": {
    "execution": {
     "iopub.execute_input": "2021-04-13T14:26:15.057297Z",
     "iopub.status.busy": "2021-04-13T14:26:15.056300Z",
     "iopub.status.idle": "2021-04-13T14:26:15.226297Z",
     "shell.execute_reply": "2021-04-13T14:26:15.225331Z",
     "shell.execute_reply.started": "2021-04-13T14:26:15.057297Z"
    }
   },
   "outputs": [],
   "source": [
    "def friend_enemy_list(df):\n",
    "    grouped_df =  df[['SOURCE_SUBREDDIT','TARGET_SUBREDDIT','LINK_SENTIMENT']]\n",
    "    df2 = grouped_df.groupby(\n",
    "         ['SOURCE_SUBREDDIT','TARGET_SUBREDDIT']\n",
    "     ).agg(\n",
    "         SENTIMENT_SUM = ('LINK_SENTIMENT','sum')\n",
    "     ).reset_index()\n",
    "    df2['SENTIMENT_SUM_ABS'] = abs(df2['SENTIMENT_SUM'])\n",
    "    df2 = df2.sort_values('SENTIMENT_SUM_ABS',ascending=False).reset_index(drop=True)\n",
    "    positive_sum = df2.loc[df2['SENTIMENT_SUM']>5]\n",
    "    friend_list = []\n",
    "    for idx, row in positive_sum.iterrows():\n",
    "        friend = (row['SOURCE_SUBREDDIT'],row['TARGET_SUBREDDIT'])\n",
    "        friend_list.append(friend)\n",
    "    negative_sum = df2.loc[df2['SENTIMENT_SUM']<-2]\n",
    "    \n",
    "    enemy_list = []\n",
    "    for idx, row in negative_sum.iterrows():\n",
    "        enemy = (row['SOURCE_SUBREDDIT'],row['TARGET_SUBREDDIT'])\n",
    "        enemy_list.append(enemy)\n",
    "        \n",
    "    return friend_list, enemy_list"
   ]
  },
  {
   "cell_type": "code",
   "execution_count": 37,
   "metadata": {
    "execution": {
     "iopub.execute_input": "2021-04-13T14:45:06.764487Z",
     "iopub.status.busy": "2021-04-13T14:45:06.763479Z",
     "iopub.status.idle": "2021-04-13T14:45:06.830469Z",
     "shell.execute_reply": "2021-04-13T14:45:06.829475Z",
     "shell.execute_reply.started": "2021-04-13T14:45:06.764487Z"
    }
   },
   "outputs": [
    {
     "data": {
      "text/html": [
       "<div>\n",
       "<style scoped>\n",
       "    .dataframe tbody tr th:only-of-type {\n",
       "        vertical-align: middle;\n",
       "    }\n",
       "\n",
       "    .dataframe tbody tr th {\n",
       "        vertical-align: top;\n",
       "    }\n",
       "\n",
       "    .dataframe thead th {\n",
       "        text-align: right;\n",
       "    }\n",
       "</style>\n",
       "<table border=\"1\" class=\"dataframe\">\n",
       "  <thead>\n",
       "    <tr style=\"text-align: right;\">\n",
       "      <th></th>\n",
       "      <th>SOURCE_SUBREDDIT</th>\n",
       "      <th>Friend_count</th>\n",
       "    </tr>\n",
       "  </thead>\n",
       "  <tbody>\n",
       "    <tr>\n",
       "      <th>572</th>\n",
       "      <td>bestof</td>\n",
       "      <td>473</td>\n",
       "    </tr>\n",
       "    <tr>\n",
       "      <th>5184</th>\n",
       "      <td>subredditdrama</td>\n",
       "      <td>395</td>\n",
       "    </tr>\n",
       "    <tr>\n",
       "      <th>5536</th>\n",
       "      <td>titlegore</td>\n",
       "      <td>292</td>\n",
       "    </tr>\n",
       "    <tr>\n",
       "      <th>4829</th>\n",
       "      <td>shitredditsays</td>\n",
       "      <td>160</td>\n",
       "    </tr>\n",
       "    <tr>\n",
       "      <th>5262</th>\n",
       "      <td>switcharoo</td>\n",
       "      <td>159</td>\n",
       "    </tr>\n",
       "    <tr>\n",
       "      <th>4801</th>\n",
       "      <td>shitamericanssay</td>\n",
       "      <td>140</td>\n",
       "    </tr>\n",
       "    <tr>\n",
       "      <th>4823</th>\n",
       "      <td>shitpost</td>\n",
       "      <td>117</td>\n",
       "    </tr>\n",
       "    <tr>\n",
       "      <th>2367</th>\n",
       "      <td>hailcorporate</td>\n",
       "      <td>103</td>\n",
       "    </tr>\n",
       "    <tr>\n",
       "      <th>993</th>\n",
       "      <td>circlebroke2</td>\n",
       "      <td>91</td>\n",
       "    </tr>\n",
       "    <tr>\n",
       "      <th>4816</th>\n",
       "      <td>shitliberalssay</td>\n",
       "      <td>85</td>\n",
       "    </tr>\n",
       "  </tbody>\n",
       "</table>\n",
       "</div>"
      ],
      "text/plain": [
       "      SOURCE_SUBREDDIT  Friend_count\n",
       "572             bestof           473\n",
       "5184    subredditdrama           395\n",
       "5536         titlegore           292\n",
       "4829    shitredditsays           160\n",
       "5262        switcharoo           159\n",
       "4801  shitamericanssay           140\n",
       "4823          shitpost           117\n",
       "2367     hailcorporate           103\n",
       "993       circlebroke2            91\n",
       "4816   shitliberalssay            85"
      ]
     },
     "execution_count": 37,
     "metadata": {},
     "output_type": "execute_result"
    }
   ],
   "source": [
    "popular_friends_source = positive_sum.groupby(['SOURCE_SUBREDDIT']).agg(\n",
    "     Friend_count = ('TARGET_SUBREDDIT','count')\n",
    " ).reset_index()\n",
    "popular_friends_source.sort_values('Friend_count',ascending=False).head(10)"
   ]
  },
  {
   "cell_type": "code",
   "execution_count": 29,
   "metadata": {
    "execution": {
     "iopub.execute_input": "2021-04-13T14:34:02.983009Z",
     "iopub.status.busy": "2021-04-13T14:34:02.983009Z",
     "iopub.status.idle": "2021-04-13T14:34:03.059547Z",
     "shell.execute_reply": "2021-04-13T14:34:03.056544Z",
     "shell.execute_reply.started": "2021-04-13T14:34:02.983009Z"
    }
   },
   "outputs": [
    {
     "data": {
      "text/html": [
       "<div>\n",
       "<style scoped>\n",
       "    .dataframe tbody tr th:only-of-type {\n",
       "        vertical-align: middle;\n",
       "    }\n",
       "\n",
       "    .dataframe tbody tr th {\n",
       "        vertical-align: top;\n",
       "    }\n",
       "\n",
       "    .dataframe thead th {\n",
       "        text-align: right;\n",
       "    }\n",
       "</style>\n",
       "<table border=\"1\" class=\"dataframe\">\n",
       "  <thead>\n",
       "    <tr style=\"text-align: right;\">\n",
       "      <th></th>\n",
       "      <th>TARGET_SUBREDDIT</th>\n",
       "      <th>Friend_count</th>\n",
       "    </tr>\n",
       "  </thead>\n",
       "  <tbody>\n",
       "    <tr>\n",
       "      <th>249</th>\n",
       "      <td>askreddit</td>\n",
       "      <td>641</td>\n",
       "    </tr>\n",
       "    <tr>\n",
       "      <th>1822</th>\n",
       "      <td>iama</td>\n",
       "      <td>424</td>\n",
       "    </tr>\n",
       "    <tr>\n",
       "      <th>2846</th>\n",
       "      <td>pics</td>\n",
       "      <td>274</td>\n",
       "    </tr>\n",
       "    <tr>\n",
       "      <th>3823</th>\n",
       "      <td>todayilearned</td>\n",
       "      <td>225</td>\n",
       "    </tr>\n",
       "    <tr>\n",
       "      <th>4016</th>\n",
       "      <td>videos</td>\n",
       "      <td>222</td>\n",
       "    </tr>\n",
       "    <tr>\n",
       "      <th>1484</th>\n",
       "      <td>funny</td>\n",
       "      <td>221</td>\n",
       "    </tr>\n",
       "    <tr>\n",
       "      <th>4159</th>\n",
       "      <td>worldnews</td>\n",
       "      <td>213</td>\n",
       "    </tr>\n",
       "    <tr>\n",
       "      <th>4183</th>\n",
       "      <td>writingprompts</td>\n",
       "      <td>161</td>\n",
       "    </tr>\n",
       "    <tr>\n",
       "      <th>1525</th>\n",
       "      <td>gaming</td>\n",
       "      <td>147</td>\n",
       "    </tr>\n",
       "    <tr>\n",
       "      <th>2077</th>\n",
       "      <td>leagueoflegends</td>\n",
       "      <td>145</td>\n",
       "    </tr>\n",
       "  </tbody>\n",
       "</table>\n",
       "</div>"
      ],
      "text/plain": [
       "     TARGET_SUBREDDIT  Friend_count\n",
       "249         askreddit           641\n",
       "1822             iama           424\n",
       "2846             pics           274\n",
       "3823    todayilearned           225\n",
       "4016           videos           222\n",
       "1484            funny           221\n",
       "4159        worldnews           213\n",
       "4183   writingprompts           161\n",
       "1525           gaming           147\n",
       "2077  leagueoflegends           145"
      ]
     },
     "execution_count": 29,
     "metadata": {},
     "output_type": "execute_result"
    }
   ],
   "source": [
    "popular_friends_target = positive_sum.groupby(['TARGET_SUBREDDIT']).agg(\n",
    "     Friend_count = ('TARGET_SUBREDDIT','count')\n",
    " ).reset_index()\n",
    "popular_friends_target.sort_values('Friend_count',ascending=False).head(10)"
   ]
  },
  {
   "cell_type": "code",
   "execution_count": 34,
   "metadata": {
    "execution": {
     "iopub.execute_input": "2021-04-13T14:34:49.261461Z",
     "iopub.status.busy": "2021-04-13T14:34:49.259449Z",
     "iopub.status.idle": "2021-04-13T14:34:49.341434Z",
     "shell.execute_reply": "2021-04-13T14:34:49.340469Z",
     "shell.execute_reply.started": "2021-04-13T14:34:49.260466Z"
    }
   },
   "outputs": [
    {
     "data": {
      "text/html": [
       "<div>\n",
       "<style scoped>\n",
       "    .dataframe tbody tr th:only-of-type {\n",
       "        vertical-align: middle;\n",
       "    }\n",
       "\n",
       "    .dataframe tbody tr th {\n",
       "        vertical-align: top;\n",
       "    }\n",
       "\n",
       "    .dataframe thead th {\n",
       "        text-align: right;\n",
       "    }\n",
       "</style>\n",
       "<table border=\"1\" class=\"dataframe\">\n",
       "  <thead>\n",
       "    <tr style=\"text-align: right;\">\n",
       "      <th></th>\n",
       "      <th>SOURCE_SUBREDDIT</th>\n",
       "      <th>Enemy_count</th>\n",
       "    </tr>\n",
       "  </thead>\n",
       "  <tbody>\n",
       "    <tr>\n",
       "      <th>32</th>\n",
       "      <td>drama</td>\n",
       "      <td>32</td>\n",
       "    </tr>\n",
       "    <tr>\n",
       "      <th>109</th>\n",
       "      <td>subredditdrama</td>\n",
       "      <td>29</td>\n",
       "    </tr>\n",
       "    <tr>\n",
       "      <th>107</th>\n",
       "      <td>subreddit_stats</td>\n",
       "      <td>12</td>\n",
       "    </tr>\n",
       "    <tr>\n",
       "      <th>81</th>\n",
       "      <td>publichealthwatch</td>\n",
       "      <td>12</td>\n",
       "    </tr>\n",
       "    <tr>\n",
       "      <th>101</th>\n",
       "      <td>sjwnews</td>\n",
       "      <td>10</td>\n",
       "    </tr>\n",
       "    <tr>\n",
       "      <th>21</th>\n",
       "      <td>botsrights</td>\n",
       "      <td>9</td>\n",
       "    </tr>\n",
       "    <tr>\n",
       "      <th>3</th>\n",
       "      <td>againstmensrights</td>\n",
       "      <td>7</td>\n",
       "    </tr>\n",
       "    <tr>\n",
       "      <th>25</th>\n",
       "      <td>circlebroke2</td>\n",
       "      <td>6</td>\n",
       "    </tr>\n",
       "    <tr>\n",
       "      <th>31</th>\n",
       "      <td>deadpoolhatersclub</td>\n",
       "      <td>5</td>\n",
       "    </tr>\n",
       "    <tr>\n",
       "      <th>39</th>\n",
       "      <td>evenwithcontext</td>\n",
       "      <td>5</td>\n",
       "    </tr>\n",
       "  </tbody>\n",
       "</table>\n",
       "</div>"
      ],
      "text/plain": [
       "       SOURCE_SUBREDDIT  Enemy_count\n",
       "32                drama           32\n",
       "109      subredditdrama           29\n",
       "107     subreddit_stats           12\n",
       "81    publichealthwatch           12\n",
       "101             sjwnews           10\n",
       "21           botsrights            9\n",
       "3     againstmensrights            7\n",
       "25         circlebroke2            6\n",
       "31   deadpoolhatersclub            5\n",
       "39      evenwithcontext            5"
      ]
     },
     "execution_count": 34,
     "metadata": {},
     "output_type": "execute_result"
    }
   ],
   "source": [
    "popular_enemies_source= negative_sum.groupby(['SOURCE_SUBREDDIT']).agg(\n",
    "     Enemy_count = ('SOURCE_SUBREDDIT','count')\n",
    " ).reset_index()\n",
    "popular_enemies_source.sort_values('Enemy_count',ascending=False).head(10)"
   ]
  },
  {
   "cell_type": "code",
   "execution_count": 35,
   "metadata": {
    "execution": {
     "iopub.execute_input": "2021-04-13T14:34:49.794686Z",
     "iopub.status.busy": "2021-04-13T14:34:49.792690Z",
     "iopub.status.idle": "2021-04-13T14:34:49.910666Z",
     "shell.execute_reply": "2021-04-13T14:34:49.905670Z",
     "shell.execute_reply.started": "2021-04-13T14:34:49.794686Z"
    }
   },
   "outputs": [
    {
     "data": {
      "text/html": [
       "<div>\n",
       "<style scoped>\n",
       "    .dataframe tbody tr th:only-of-type {\n",
       "        vertical-align: middle;\n",
       "    }\n",
       "\n",
       "    .dataframe tbody tr th {\n",
       "        vertical-align: top;\n",
       "    }\n",
       "\n",
       "    .dataframe thead th {\n",
       "        text-align: right;\n",
       "    }\n",
       "</style>\n",
       "<table border=\"1\" class=\"dataframe\">\n",
       "  <thead>\n",
       "    <tr style=\"text-align: right;\">\n",
       "      <th></th>\n",
       "      <th>TARGET_SUBREDDIT</th>\n",
       "      <th>Enemy_count</th>\n",
       "    </tr>\n",
       "  </thead>\n",
       "  <tbody>\n",
       "    <tr>\n",
       "      <th>118</th>\n",
       "      <td>news</td>\n",
       "      <td>12</td>\n",
       "    </tr>\n",
       "    <tr>\n",
       "      <th>69</th>\n",
       "      <td>funny</td>\n",
       "      <td>8</td>\n",
       "    </tr>\n",
       "    <tr>\n",
       "      <th>201</th>\n",
       "      <td>videos</td>\n",
       "      <td>6</td>\n",
       "    </tr>\n",
       "    <tr>\n",
       "      <th>16</th>\n",
       "      <td>askreddit</td>\n",
       "      <td>6</td>\n",
       "    </tr>\n",
       "    <tr>\n",
       "      <th>58</th>\n",
       "      <td>enoughtrumpspam</td>\n",
       "      <td>6</td>\n",
       "    </tr>\n",
       "    <tr>\n",
       "      <th>184</th>\n",
       "      <td>todayilearned</td>\n",
       "      <td>5</td>\n",
       "    </tr>\n",
       "    <tr>\n",
       "      <th>53</th>\n",
       "      <td>drama</td>\n",
       "      <td>4</td>\n",
       "    </tr>\n",
       "    <tr>\n",
       "      <th>134</th>\n",
       "      <td>pics</td>\n",
       "      <td>4</td>\n",
       "    </tr>\n",
       "    <tr>\n",
       "      <th>6</th>\n",
       "      <td>againstmensrights</td>\n",
       "      <td>3</td>\n",
       "    </tr>\n",
       "    <tr>\n",
       "      <th>70</th>\n",
       "      <td>gamerghazi</td>\n",
       "      <td>3</td>\n",
       "    </tr>\n",
       "  </tbody>\n",
       "</table>\n",
       "</div>"
      ],
      "text/plain": [
       "      TARGET_SUBREDDIT  Enemy_count\n",
       "118               news           12\n",
       "69               funny            8\n",
       "201             videos            6\n",
       "16           askreddit            6\n",
       "58     enoughtrumpspam            6\n",
       "184      todayilearned            5\n",
       "53               drama            4\n",
       "134               pics            4\n",
       "6    againstmensrights            3\n",
       "70          gamerghazi            3"
      ]
     },
     "execution_count": 35,
     "metadata": {},
     "output_type": "execute_result"
    }
   ],
   "source": [
    "popular_enemies_target = negative_sum.groupby(['TARGET_SUBREDDIT']).agg(\n",
    "     Enemy_count = ('TARGET_SUBREDDIT','count')\n",
    " ).reset_index()\n",
    "popular_enemies_target.sort_values('Enemy_count',ascending=False).head(10)"
   ]
  },
  {
   "cell_type": "code",
   "execution_count": null,
   "metadata": {},
   "outputs": [],
   "source": []
  }
 ],
 "metadata": {
  "kernelspec": {
   "display_name": "Python 3",
   "language": "python",
   "name": "python3"
  },
  "language_info": {
   "codemirror_mode": {
    "name": "ipython",
    "version": 3
   },
   "file_extension": ".py",
   "mimetype": "text/x-python",
   "name": "python",
   "nbconvert_exporter": "python",
   "pygments_lexer": "ipython3",
   "version": "3.8.5"
  }
 },
 "nbformat": 4,
 "nbformat_minor": 4
}
