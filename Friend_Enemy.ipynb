{
 "cells": [
  {
   "cell_type": "code",
   "execution_count": 1,
   "metadata": {
    "execution": {
     "iopub.execute_input": "2021-04-09T14:48:41.335071Z",
     "iopub.status.busy": "2021-04-09T14:48:41.330129Z",
     "iopub.status.idle": "2021-04-09T14:49:25.975078Z",
     "shell.execute_reply": "2021-04-09T14:49:25.971454Z",
     "shell.execute_reply.started": "2021-04-09T14:48:41.335071Z"
    }
   },
   "outputs": [],
   "source": [
    "import networkx as nx\n",
    "import pandas as pd\n",
    "import numpy as np \n",
    "import matplotlib.pyplot as plt\n",
    "import math\n",
    "import scipy\n",
    "import matplotlib.pyplot as plt \n",
    "import random"
   ]
  },
  {
   "cell_type": "code",
   "execution_count": 2,
   "metadata": {
    "execution": {
     "iopub.execute_input": "2021-04-09T14:49:25.983988Z",
     "iopub.status.busy": "2021-04-09T14:49:25.983988Z",
     "iopub.status.idle": "2021-04-09T14:50:19.214074Z",
     "shell.execute_reply": "2021-04-09T14:50:19.214074Z",
     "shell.execute_reply.started": "2021-04-09T14:49:25.983988Z"
    }
   },
   "outputs": [],
   "source": [
    "bodyData = pd.read_csv(\"soc-redditHyperlinks-body.tsv\", sep='\\t')\n",
    "titleData = pd.read_csv(\"soc-redditHyperlinks-title.tsv\", sep='\\t')\n",
    "df = bodyData.append(titleData, ignore_index=True)\n",
    "del df['PROPERTIES']"
   ]
  },
  {
   "cell_type": "code",
   "execution_count": 3,
   "metadata": {
    "execution": {
     "iopub.execute_input": "2021-04-09T14:52:06.885084Z",
     "iopub.status.busy": "2021-04-09T14:52:06.879847Z",
     "iopub.status.idle": "2021-04-09T14:52:09.004734Z",
     "shell.execute_reply": "2021-04-09T14:52:09.004734Z",
     "shell.execute_reply.started": "2021-04-09T14:52:06.885084Z"
    }
   },
   "outputs": [],
   "source": [
    "grouped_df =  df[['SOURCE_SUBREDDIT','TARGET_SUBREDDIT','LINK_SENTIMENT']]\n",
    "df2 = grouped_df.groupby(\n",
    "     ['SOURCE_SUBREDDIT','TARGET_SUBREDDIT']\n",
    " ).agg(\n",
    "     SENTIMENT_SUM = ('LINK_SENTIMENT','sum')\n",
    " ).reset_index()"
   ]
  },
  {
   "cell_type": "code",
   "execution_count": 5,
   "metadata": {
    "execution": {
     "iopub.execute_input": "2021-04-09T14:52:41.254868Z",
     "iopub.status.busy": "2021-04-09T14:52:41.250086Z",
     "iopub.status.idle": "2021-04-09T14:52:41.484834Z",
     "shell.execute_reply": "2021-04-09T14:52:41.484834Z",
     "shell.execute_reply.started": "2021-04-09T14:52:41.254868Z"
    }
   },
   "outputs": [],
   "source": [
    "df2['SENTIMENT_SUM_ABS'] = abs(df2['SENTIMENT_SUM'])\n",
    "df2 = df2.sort_values('SENTIMENT_SUM_ABS',ascending=False).reset_index(drop=True)"
   ]
  },
  {
   "cell_type": "code",
   "execution_count": 8,
   "metadata": {
    "execution": {
     "iopub.execute_input": "2021-04-09T15:09:24.500607Z",
     "iopub.status.busy": "2021-04-09T15:09:24.500607Z",
     "iopub.status.idle": "2021-04-09T15:09:24.565934Z",
     "shell.execute_reply": "2021-04-09T15:09:24.560901Z",
     "shell.execute_reply.started": "2021-04-09T15:09:24.500607Z"
    }
   },
   "outputs": [
    {
     "data": {
      "text/html": [
       "<div>\n",
       "<style scoped>\n",
       "    .dataframe tbody tr th:only-of-type {\n",
       "        vertical-align: middle;\n",
       "    }\n",
       "\n",
       "    .dataframe tbody tr th {\n",
       "        vertical-align: top;\n",
       "    }\n",
       "\n",
       "    .dataframe thead th {\n",
       "        text-align: right;\n",
       "    }\n",
       "</style>\n",
       "<table border=\"1\" class=\"dataframe\">\n",
       "  <thead>\n",
       "    <tr style=\"text-align: right;\">\n",
       "      <th></th>\n",
       "      <th>SOURCE_SUBREDDIT</th>\n",
       "      <th>TARGET_SUBREDDIT</th>\n",
       "      <th>SENTIMENT_SUM</th>\n",
       "      <th>SENTIMENT_SUM_ABS</th>\n",
       "    </tr>\n",
       "  </thead>\n",
       "  <tbody>\n",
       "    <tr>\n",
       "      <th>0</th>\n",
       "      <td>trendingsubreddits</td>\n",
       "      <td>changelog</td>\n",
       "      <td>548</td>\n",
       "      <td>548</td>\n",
       "    </tr>\n",
       "    <tr>\n",
       "      <th>1</th>\n",
       "      <td>moronicmondayandroid</td>\n",
       "      <td>android</td>\n",
       "      <td>478</td>\n",
       "      <td>478</td>\n",
       "    </tr>\n",
       "    <tr>\n",
       "      <th>2</th>\n",
       "      <td>goodshibe</td>\n",
       "      <td>dogecoin</td>\n",
       "      <td>299</td>\n",
       "      <td>299</td>\n",
       "    </tr>\n",
       "    <tr>\n",
       "      <th>3</th>\n",
       "      <td>nightlypick</td>\n",
       "      <td>hockey</td>\n",
       "      <td>296</td>\n",
       "      <td>296</td>\n",
       "    </tr>\n",
       "    <tr>\n",
       "      <th>4</th>\n",
       "      <td>titlegore</td>\n",
       "      <td>todayilearned</td>\n",
       "      <td>279</td>\n",
       "      <td>279</td>\n",
       "    </tr>\n",
       "  </tbody>\n",
       "</table>\n",
       "</div>"
      ],
      "text/plain": [
       "       SOURCE_SUBREDDIT TARGET_SUBREDDIT  SENTIMENT_SUM  SENTIMENT_SUM_ABS\n",
       "0    trendingsubreddits        changelog            548                548\n",
       "1  moronicmondayandroid          android            478                478\n",
       "2             goodshibe         dogecoin            299                299\n",
       "3           nightlypick           hockey            296                296\n",
       "4             titlegore    todayilearned            279                279"
      ]
     },
     "execution_count": 8,
     "metadata": {},
     "output_type": "execute_result"
    }
   ],
   "source": [
    "df2.head()"
   ]
  },
  {
   "cell_type": "code",
   "execution_count": 13,
   "metadata": {
    "execution": {
     "iopub.execute_input": "2021-04-09T15:10:26.334842Z",
     "iopub.status.busy": "2021-04-09T15:10:26.330708Z",
     "iopub.status.idle": "2021-04-09T15:10:26.406221Z",
     "shell.execute_reply": "2021-04-09T15:10:26.401187Z",
     "shell.execute_reply.started": "2021-04-09T15:10:26.334842Z"
    }
   },
   "outputs": [],
   "source": [
    "positive_sum = df2.loc[df2['SENTIMENT_SUM']>5]"
   ]
  },
  {
   "cell_type": "code",
   "execution_count": 15,
   "metadata": {
    "execution": {
     "iopub.execute_input": "2021-04-09T15:10:59.395802Z",
     "iopub.status.busy": "2021-04-09T15:10:59.390741Z",
     "iopub.status.idle": "2021-04-09T15:10:59.485481Z",
     "shell.execute_reply": "2021-04-09T15:10:59.470882Z",
     "shell.execute_reply.started": "2021-04-09T15:10:59.395802Z"
    }
   },
   "outputs": [
    {
     "data": {
      "text/html": [
       "<div>\n",
       "<style scoped>\n",
       "    .dataframe tbody tr th:only-of-type {\n",
       "        vertical-align: middle;\n",
       "    }\n",
       "\n",
       "    .dataframe tbody tr th {\n",
       "        vertical-align: top;\n",
       "    }\n",
       "\n",
       "    .dataframe thead th {\n",
       "        text-align: right;\n",
       "    }\n",
       "</style>\n",
       "<table border=\"1\" class=\"dataframe\">\n",
       "  <thead>\n",
       "    <tr style=\"text-align: right;\">\n",
       "      <th></th>\n",
       "      <th>SOURCE_SUBREDDIT</th>\n",
       "      <th>TARGET_SUBREDDIT</th>\n",
       "      <th>SENTIMENT_SUM</th>\n",
       "      <th>SENTIMENT_SUM_ABS</th>\n",
       "    </tr>\n",
       "  </thead>\n",
       "  <tbody>\n",
       "    <tr>\n",
       "      <th>0</th>\n",
       "      <td>trendingsubreddits</td>\n",
       "      <td>changelog</td>\n",
       "      <td>548</td>\n",
       "      <td>548</td>\n",
       "    </tr>\n",
       "    <tr>\n",
       "      <th>1</th>\n",
       "      <td>moronicmondayandroid</td>\n",
       "      <td>android</td>\n",
       "      <td>478</td>\n",
       "      <td>478</td>\n",
       "    </tr>\n",
       "    <tr>\n",
       "      <th>2</th>\n",
       "      <td>goodshibe</td>\n",
       "      <td>dogecoin</td>\n",
       "      <td>299</td>\n",
       "      <td>299</td>\n",
       "    </tr>\n",
       "    <tr>\n",
       "      <th>3</th>\n",
       "      <td>nightlypick</td>\n",
       "      <td>hockey</td>\n",
       "      <td>296</td>\n",
       "      <td>296</td>\n",
       "    </tr>\n",
       "    <tr>\n",
       "      <th>4</th>\n",
       "      <td>titlegore</td>\n",
       "      <td>todayilearned</td>\n",
       "      <td>279</td>\n",
       "      <td>279</td>\n",
       "    </tr>\n",
       "  </tbody>\n",
       "</table>\n",
       "</div>"
      ],
      "text/plain": [
       "       SOURCE_SUBREDDIT TARGET_SUBREDDIT  SENTIMENT_SUM  SENTIMENT_SUM_ABS\n",
       "0    trendingsubreddits        changelog            548                548\n",
       "1  moronicmondayandroid          android            478                478\n",
       "2             goodshibe         dogecoin            299                299\n",
       "3           nightlypick           hockey            296                296\n",
       "4             titlegore    todayilearned            279                279"
      ]
     },
     "execution_count": 15,
     "metadata": {},
     "output_type": "execute_result"
    }
   ],
   "source": [
    "positive_sum.head()"
   ]
  },
  {
   "cell_type": "code",
   "execution_count": 18,
   "metadata": {
    "execution": {
     "iopub.execute_input": "2021-04-09T15:13:36.855491Z",
     "iopub.status.busy": "2021-04-09T15:13:36.855491Z",
     "iopub.status.idle": "2021-04-09T15:13:38.780787Z",
     "shell.execute_reply": "2021-04-09T15:13:38.780787Z",
     "shell.execute_reply.started": "2021-04-09T15:13:36.855491Z"
    }
   },
   "outputs": [],
   "source": [
    "friend_list = []\n",
    "for idx, row in positive_sum.iterrows():\n",
    "    friend = (row['SOURCE_SUBREDDIT'],row['TARGET_SUBREDDIT'])\n",
    "    friend_list.append(friend)"
   ]
  },
  {
   "cell_type": "code",
   "execution_count": 32,
   "metadata": {
    "execution": {
     "iopub.execute_input": "2021-04-09T15:19:45.598451Z",
     "iopub.status.busy": "2021-04-09T15:19:45.597450Z",
     "iopub.status.idle": "2021-04-09T15:19:45.618448Z",
     "shell.execute_reply": "2021-04-09T15:19:45.617446Z",
     "shell.execute_reply.started": "2021-04-09T15:19:45.598451Z"
    }
   },
   "outputs": [
    {
     "data": {
      "text/plain": [
       "284"
      ]
     },
     "execution_count": 32,
     "metadata": {},
     "output_type": "execute_result"
    }
   ],
   "source": [
    "negative_sum = df2.loc[df2['SENTIMENT_SUM']<-2]\n",
    "len(negative_sum)"
   ]
  },
  {
   "cell_type": "code",
   "execution_count": 33,
   "metadata": {
    "execution": {
     "iopub.execute_input": "2021-04-09T15:20:35.226700Z",
     "iopub.status.busy": "2021-04-09T15:20:35.224703Z",
     "iopub.status.idle": "2021-04-09T15:20:35.293694Z",
     "shell.execute_reply": "2021-04-09T15:20:35.292693Z",
     "shell.execute_reply.started": "2021-04-09T15:20:35.225705Z"
    }
   },
   "outputs": [],
   "source": [
    "enemy_list = []\n",
    "for idx, row in negative_sum.iterrows():\n",
    "    enemy = (row['SOURCE_SUBREDDIT'],row['TARGET_SUBREDDIT'])\n",
    "    enemy_list.append(enemy)"
   ]
  }
 ],
 "metadata": {
  "kernelspec": {
   "display_name": "Python 3",
   "language": "python",
   "name": "python3"
  },
  "language_info": {
   "codemirror_mode": {
    "name": "ipython",
    "version": 3
   },
   "file_extension": ".py",
   "mimetype": "text/x-python",
   "name": "python",
   "nbconvert_exporter": "python",
   "pygments_lexer": "ipython3",
   "version": "3.8.5"
  }
 },
 "nbformat": 4,
 "nbformat_minor": 4
}
